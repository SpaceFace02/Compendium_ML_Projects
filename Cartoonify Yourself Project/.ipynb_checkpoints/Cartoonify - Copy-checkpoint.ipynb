{
 "cells": [
  {
   "cell_type": "markdown",
   "metadata": {},
   "source": [
    "## Cartoonifying yourself!!"
   ]
  },
  {
   "cell_type": "markdown",
   "metadata": {},
   "source": [
    "#### For this to work, add any photo to the folder root and name it image.jpg, and that image will be cartoonified!"
   ]
  },
  {
   "cell_type": "code",
   "execution_count": 3,
   "metadata": {},
   "outputs": [],
   "source": [
    "import numpy as np\n",
    "import cv2\n",
    "from tensorflow.keras.preprocessing.image import img_to_array,load_img\n",
    "import os\n",
    "import matplotlib.pyplot as plt"
   ]
  },
  {
   "cell_type": "code",
   "execution_count": null,
   "metadata": {},
   "outputs": [],
   "source": [
    "img = cv2.imread('image.jpg')\n",
    "img = cv2.cvtColor(img , cv2.COLOR_BGR2RGB)\n",
    "img = cv2.resize(img ,(760 ,960))\n",
    "plt.imshow(img)"
   ]
  },
  {
   "cell_type": "code",
   "execution_count": 6,
   "metadata": {},
   "outputs": [],
   "source": [
    "def display_img(img ,cmap):\n",
    "    fig = plt.figure(figsize=(10,8))\n",
    "    ax = fig.add_subplot(111)\n",
    "    plt.axis('off')\n",
    "    ax.imshow(img, cmap='gray')"
   ]
  },
  {
   "cell_type": "code",
   "execution_count": null,
   "metadata": {},
   "outputs": [],
   "source": [
    "img = cv2.imread('image.jpg')\n",
    "img = cv2.cvtColor(img , cv2.COLOR_BGR2RGB)\n",
    "img = cv2.resize(img ,(760 ,960))\n",
    "gray_scaled = cv2.imread('image.jpg' ,0)\n",
    "gray_scaled = cv2.resize(gray_scaled ,(760 ,960))\n",
    "smooth_img = cv2.medianBlur(gray_scaled , 5)\n",
    "smooth_img = cv2.resize(smooth_img ,(760 ,960))\n",
    "get_edges = cv2.adaptiveThreshold(smooth_img ,255 ,cv2.ADAPTIVE_THRESH_MEAN_C ,cv2.THRESH_BINARY ,9 , 9)\n",
    "get_edges = cv2.resize(get_edges ,(760 ,960))\n",
    "filtered_img = cv2.bilateralFilter(img , 11 ,400 ,400)\n",
    "filtered_img = cv2.resize(filtered_img ,(760,960))\n",
    "cartoonImage = cv2.bitwise_and(filtered_img,filtered_img ,mask=get_edges)\n",
    "cartoonImage = cv2.resize(cartoonImage ,(760,960))\n",
    "display_img(cartoonImage ,cmap=None)"
   ]
  }
 ],
 "metadata": {
  "kernelspec": {
   "display_name": "Python 3 (ipykernel)",
   "language": "python",
   "name": "python3"
  },
  "language_info": {
   "codemirror_mode": {
    "name": "ipython",
    "version": 3
   },
   "file_extension": ".py",
   "mimetype": "text/x-python",
   "name": "python",
   "nbconvert_exporter": "python",
   "pygments_lexer": "ipython3",
   "version": "3.9.7"
  }
 },
 "nbformat": 4,
 "nbformat_minor": 4
}
