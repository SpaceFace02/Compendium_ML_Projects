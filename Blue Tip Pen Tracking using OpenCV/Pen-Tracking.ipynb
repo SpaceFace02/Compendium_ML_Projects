{
 "cells": [
  {
   "cell_type": "markdown",
   "metadata": {},
   "source": [
    "### TRACKS A BLUE PEN CAP WITH A BLUE LID"
   ]
  },
  {
   "cell_type": "code",
   "execution_count": 2,
   "metadata": {},
   "outputs": [],
   "source": [
    "import cv2\n",
    "import numpy as np\n",
    "from collections import deque"
   ]
  },
  {
   "cell_type": "code",
   "execution_count": 3,
   "metadata": {},
   "outputs": [],
   "source": [
    "cap = cv2.VideoCapture(0)\n",
    "\n",
    "pts = deque(maxlen=64)\n",
    "\n",
    "Lower_green = np.array([110,50,50])  # IN HSV\n",
    "Upper_green = np.array([130,255,255])\n",
    "\n",
    "while True:\n",
    "    ret , frame = cap.read()\n",
    "    hsv = cv2.cvtColor(frame , cv2.COLOR_BGR2HSV)\n",
    "    kernel = np.ones((5,5))\n",
    "    mask = cv2.inRange(hsv , Lower_green ,Upper_green)\n",
    "    \n",
    "    \n",
    "    # To erode the mask so that a thinner line is formed.\n",
    "    mask = cv2.erode(mask , kernel = kernel , iterations = 2)\n",
    "\t# Opening just erodes then dilates removing noise outside.\n",
    "    \n",
    "    mask = cv2.morphologyEx(mask , cv2.MORPH_OPEN ,kernel)\n",
    "    mask = cv2.morphologyEx(mask , cv2.MORPH_CLOSE , kernel)\n",
    "    mask = cv2.dilate(mask , kernel ,iterations = 1)\n",
    "    \n",
    "    contours , heirarchy = cv2.findContours(mask.copy() ,cv2.RETR_EXTERNAL , cv2.CHAIN_APPROX_SIMPLE)[-2:]\n",
    "\n",
    "    if len(contours)> 0:\n",
    "        c = max(contours ,key = cv2.contourArea)\n",
    "        (x,y) ,radius = cv2.minEnclosingCircle(c)\n",
    "        M = cv2.moments(c)\n",
    "        centroid = (int(M['m10'] / M['m00']) , int(M['m01'] / M['m00']))\n",
    "\n",
    "        if radius > 5:\n",
    "\t\t\t# Draw a circle around the pen cap.\n",
    "            cv2.circle(frame ,(int(x) , int(y)) , int(radius) , (0,0,255) , -1)\n",
    "            \n",
    "        pts.appendleft(centroid)\n",
    "    \n",
    "    cv2.imshow('Frame' , frame)\n",
    "    cv2.imshow('mask' , mask)\n",
    "        \n",
    "    for i in range(1 ,len(pts)):\n",
    "\t\t# As float increases , the thickness of line decreases.\n",
    "        thickness = int(np.sqrt(len(pts) / float(i+1))*2.5)\n",
    "\t\t# Line is drawn from one point to another point.\n",
    "        cv2.line(frame , pts[i-1] , pts[i] ,(0,255,0) ,thickness)\n",
    "\n",
    "   # Duration after which frame is displayed.\n",
    "    if cv2.waitKey(1) == 27:\n",
    "        break\n",
    "        cap.release()\n",
    "        cv2.destroyAllWindows()"
   ]
  },
  {
   "cell_type": "code",
   "execution_count": 3,
   "metadata": {},
   "outputs": [],
   "source": [
    "pts = deque(maxlen=64)"
   ]
  },
  {
   "cell_type": "code",
   "execution_count": 11,
   "metadata": {},
   "outputs": [],
   "source": [
    "pts.append(1136)"
   ]
  },
  {
   "cell_type": "code",
   "execution_count": 4,
   "metadata": {},
   "outputs": [
    {
     "data": {
      "text/plain": [
       "64"
      ]
     },
     "execution_count": 4,
     "metadata": {},
     "output_type": "execute_result"
    }
   ],
   "source": [
    "len(pts)"
   ]
  }
 ],
 "metadata": {
  "kernelspec": {
   "display_name": "Python 3 (ipykernel)",
   "language": "python",
   "name": "python3"
  },
  "language_info": {
   "codemirror_mode": {
    "name": "ipython",
    "version": 3
   },
   "file_extension": ".py",
   "mimetype": "text/x-python",
   "name": "python",
   "nbconvert_exporter": "python",
   "pygments_lexer": "ipython3",
   "version": "3.9.7"
  }
 },
 "nbformat": 4,
 "nbformat_minor": 4
}
