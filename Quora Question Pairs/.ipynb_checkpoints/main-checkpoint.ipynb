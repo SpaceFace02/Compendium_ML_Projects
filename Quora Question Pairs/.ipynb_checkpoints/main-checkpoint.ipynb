{
 "cells": [
  {
   "cell_type": "code",
   "execution_count": 1,
   "id": "3e3257d5",
   "metadata": {},
   "outputs": [
    {
     "ename": "ModuleNotFoundError",
     "evalue": "No module named 'tensorflow'",
     "output_type": "error",
     "traceback": [
      "\u001b[1;31m---------------------------------------------------------------------------\u001b[0m",
      "\u001b[1;31mModuleNotFoundError\u001b[0m                       Traceback (most recent call last)",
      "\u001b[1;32m~\\AppData\\Local\\Temp/ipykernel_8772/264531854.py\u001b[0m in \u001b[0;36m<module>\u001b[1;34m\u001b[0m\n\u001b[0;32m      1\u001b[0m \u001b[1;32mimport\u001b[0m \u001b[0mnumpy\u001b[0m \u001b[1;32mas\u001b[0m \u001b[0mnp\u001b[0m\u001b[1;33m\u001b[0m\u001b[1;33m\u001b[0m\u001b[0m\n\u001b[0;32m      2\u001b[0m \u001b[1;32mimport\u001b[0m \u001b[0mpandas\u001b[0m \u001b[1;32mas\u001b[0m \u001b[0mpd\u001b[0m\u001b[1;33m\u001b[0m\u001b[1;33m\u001b[0m\u001b[0m\n\u001b[1;32m----> 3\u001b[1;33m \u001b[1;32mimport\u001b[0m \u001b[0mtensorflow\u001b[0m \u001b[1;32mas\u001b[0m \u001b[0mtf\u001b[0m\u001b[1;33m\u001b[0m\u001b[1;33m\u001b[0m\u001b[0m\n\u001b[0m",
      "\u001b[1;31mModuleNotFoundError\u001b[0m: No module named 'tensorflow'"
     ]
    }
   ],
   "source": [
    "import numpy as np\n",
    "import pandas as pd\n",
    "import tensorflow as tf"
   ]
  },
  {
   "cell_type": "code",
   "execution_count": 2,
   "id": "46cd4c7c",
   "metadata": {},
   "outputs": [],
   "source": [
    "df = pd.read_csv(\"train.csv\")"
   ]
  },
  {
   "cell_type": "code",
   "execution_count": 3,
   "id": "d0c6d7a6",
   "metadata": {},
   "outputs": [
    {
     "data": {
      "text/html": [
       "<div>\n",
       "<style scoped>\n",
       "    .dataframe tbody tr th:only-of-type {\n",
       "        vertical-align: middle;\n",
       "    }\n",
       "\n",
       "    .dataframe tbody tr th {\n",
       "        vertical-align: top;\n",
       "    }\n",
       "\n",
       "    .dataframe thead th {\n",
       "        text-align: right;\n",
       "    }\n",
       "</style>\n",
       "<table border=\"1\" class=\"dataframe\">\n",
       "  <thead>\n",
       "    <tr style=\"text-align: right;\">\n",
       "      <th></th>\n",
       "      <th>id</th>\n",
       "      <th>qid1</th>\n",
       "      <th>qid2</th>\n",
       "      <th>question1</th>\n",
       "      <th>question2</th>\n",
       "      <th>is_duplicate</th>\n",
       "    </tr>\n",
       "  </thead>\n",
       "  <tbody>\n",
       "    <tr>\n",
       "      <th>0</th>\n",
       "      <td>0</td>\n",
       "      <td>1</td>\n",
       "      <td>2</td>\n",
       "      <td>What is the step by step guide to invest in sh...</td>\n",
       "      <td>What is the step by step guide to invest in sh...</td>\n",
       "      <td>0</td>\n",
       "    </tr>\n",
       "    <tr>\n",
       "      <th>1</th>\n",
       "      <td>1</td>\n",
       "      <td>3</td>\n",
       "      <td>4</td>\n",
       "      <td>What is the story of Kohinoor (Koh-i-Noor) Dia...</td>\n",
       "      <td>What would happen if the Indian government sto...</td>\n",
       "      <td>0</td>\n",
       "    </tr>\n",
       "    <tr>\n",
       "      <th>2</th>\n",
       "      <td>2</td>\n",
       "      <td>5</td>\n",
       "      <td>6</td>\n",
       "      <td>How can I increase the speed of my internet co...</td>\n",
       "      <td>How can Internet speed be increased by hacking...</td>\n",
       "      <td>0</td>\n",
       "    </tr>\n",
       "    <tr>\n",
       "      <th>3</th>\n",
       "      <td>3</td>\n",
       "      <td>7</td>\n",
       "      <td>8</td>\n",
       "      <td>Why am I mentally very lonely? How can I solve...</td>\n",
       "      <td>Find the remainder when [math]23^{24}[/math] i...</td>\n",
       "      <td>0</td>\n",
       "    </tr>\n",
       "    <tr>\n",
       "      <th>4</th>\n",
       "      <td>4</td>\n",
       "      <td>9</td>\n",
       "      <td>10</td>\n",
       "      <td>Which one dissolve in water quikly sugar, salt...</td>\n",
       "      <td>Which fish would survive in salt water?</td>\n",
       "      <td>0</td>\n",
       "    </tr>\n",
       "    <tr>\n",
       "      <th>...</th>\n",
       "      <td>...</td>\n",
       "      <td>...</td>\n",
       "      <td>...</td>\n",
       "      <td>...</td>\n",
       "      <td>...</td>\n",
       "      <td>...</td>\n",
       "    </tr>\n",
       "    <tr>\n",
       "      <th>404285</th>\n",
       "      <td>404285</td>\n",
       "      <td>433578</td>\n",
       "      <td>379845</td>\n",
       "      <td>How many keywords are there in the Racket prog...</td>\n",
       "      <td>How many keywords are there in PERL Programmin...</td>\n",
       "      <td>0</td>\n",
       "    </tr>\n",
       "    <tr>\n",
       "      <th>404286</th>\n",
       "      <td>404286</td>\n",
       "      <td>18840</td>\n",
       "      <td>155606</td>\n",
       "      <td>Do you believe there is life after death?</td>\n",
       "      <td>Is it true that there is life after death?</td>\n",
       "      <td>1</td>\n",
       "    </tr>\n",
       "    <tr>\n",
       "      <th>404287</th>\n",
       "      <td>404287</td>\n",
       "      <td>537928</td>\n",
       "      <td>537929</td>\n",
       "      <td>What is one coin?</td>\n",
       "      <td>What's this coin?</td>\n",
       "      <td>0</td>\n",
       "    </tr>\n",
       "    <tr>\n",
       "      <th>404288</th>\n",
       "      <td>404288</td>\n",
       "      <td>537930</td>\n",
       "      <td>537931</td>\n",
       "      <td>What is the approx annual cost of living while...</td>\n",
       "      <td>I am having little hairfall problem but I want...</td>\n",
       "      <td>0</td>\n",
       "    </tr>\n",
       "    <tr>\n",
       "      <th>404289</th>\n",
       "      <td>404289</td>\n",
       "      <td>537932</td>\n",
       "      <td>537933</td>\n",
       "      <td>What is like to have sex with cousin?</td>\n",
       "      <td>What is it like to have sex with your cousin?</td>\n",
       "      <td>0</td>\n",
       "    </tr>\n",
       "  </tbody>\n",
       "</table>\n",
       "<p>404290 rows × 6 columns</p>\n",
       "</div>"
      ],
      "text/plain": [
       "            id    qid1    qid2  \\\n",
       "0            0       1       2   \n",
       "1            1       3       4   \n",
       "2            2       5       6   \n",
       "3            3       7       8   \n",
       "4            4       9      10   \n",
       "...        ...     ...     ...   \n",
       "404285  404285  433578  379845   \n",
       "404286  404286   18840  155606   \n",
       "404287  404287  537928  537929   \n",
       "404288  404288  537930  537931   \n",
       "404289  404289  537932  537933   \n",
       "\n",
       "                                                question1  \\\n",
       "0       What is the step by step guide to invest in sh...   \n",
       "1       What is the story of Kohinoor (Koh-i-Noor) Dia...   \n",
       "2       How can I increase the speed of my internet co...   \n",
       "3       Why am I mentally very lonely? How can I solve...   \n",
       "4       Which one dissolve in water quikly sugar, salt...   \n",
       "...                                                   ...   \n",
       "404285  How many keywords are there in the Racket prog...   \n",
       "404286          Do you believe there is life after death?   \n",
       "404287                                  What is one coin?   \n",
       "404288  What is the approx annual cost of living while...   \n",
       "404289              What is like to have sex with cousin?   \n",
       "\n",
       "                                                question2  is_duplicate  \n",
       "0       What is the step by step guide to invest in sh...             0  \n",
       "1       What would happen if the Indian government sto...             0  \n",
       "2       How can Internet speed be increased by hacking...             0  \n",
       "3       Find the remainder when [math]23^{24}[/math] i...             0  \n",
       "4                 Which fish would survive in salt water?             0  \n",
       "...                                                   ...           ...  \n",
       "404285  How many keywords are there in PERL Programmin...             0  \n",
       "404286         Is it true that there is life after death?             1  \n",
       "404287                                  What's this coin?             0  \n",
       "404288  I am having little hairfall problem but I want...             0  \n",
       "404289      What is it like to have sex with your cousin?             0  \n",
       "\n",
       "[404290 rows x 6 columns]"
      ]
     },
     "execution_count": 3,
     "metadata": {},
     "output_type": "execute_result"
    }
   ],
   "source": [
    "df"
   ]
  },
  {
   "cell_type": "code",
   "execution_count": 4,
   "id": "bbbc2e00",
   "metadata": {},
   "outputs": [],
   "source": [
    "def load_tables(data):\n",
    "    # This gives you an array. as type str as only string values can be concatenated\n",
    "    question1 = df[\"question1\"].astype(str).values\n",
    "    question2 = df[\"question2\"].astype(str).values\n",
    "    df['combined'] = df['question1'] + df['question2']\n",
    "    combined = question1 + question2\n",
    "    labels = df['is_duplicate'].values.astype(\"float32\")\n",
    "    \n",
    "    return question1, question2, labels\n",
    "\n",
    "\n",
    "question1, question2, labels = load_tables(df)\n",
    "\n",
    "question1 = list(question1)\n",
    "question2 = list(question2)\n",
    "combined = question1 + question2"
   ]
  },
  {
   "cell_type": "code",
   "execution_count": 5,
   "id": "0018f369",
   "metadata": {},
   "outputs": [
    {
     "data": {
      "text/plain": [
       "['What is the step by step guide to invest in share market in india?',\n",
       " 'What is the story of Kohinoor (Koh-i-Noor) Diamond?',\n",
       " 'How can I increase the speed of my internet connection while using a VPN?',\n",
       " 'Why am I mentally very lonely? How can I solve it?',\n",
       " 'Which one dissolve in water quikly sugar, salt, methane and carbon di oxide?',\n",
       " 'Astrology: I am a Capricorn Sun Cap moon and cap rising...what does that say about me?',\n",
       " 'Should I buy tiago?',\n",
       " 'How can I be a good geologist?',\n",
       " 'When do you use シ instead of し?',\n",
       " 'Motorola (company): Can I hack my Charter Motorolla DCX3400?']"
      ]
     },
     "execution_count": 5,
     "metadata": {},
     "output_type": "execute_result"
    }
   ],
   "source": [
    "combined[:10]"
   ]
  },
  {
   "cell_type": "code",
   "execution_count": 6,
   "id": "3d05d32f",
   "metadata": {},
   "outputs": [],
   "source": [
    "def cleanASCII(text):\n",
    "    return \"\".join(i for i in text if ord(i) < 128)"
   ]
  },
  {
   "cell_type": "code",
   "execution_count": 7,
   "id": "43a85f9b",
   "metadata": {},
   "outputs": [
    {
     "data": {
      "text/plain": [
       "' fox jumped over a cat'"
      ]
     },
     "execution_count": 7,
     "metadata": {},
     "output_type": "execute_result"
    }
   ],
   "source": [
    "text = \"Ä fox jumped over a cat\"\n",
    "cleanASCII(text)"
   ]
  },
  {
   "cell_type": "code",
   "execution_count": 8,
   "id": "94e9cb1d",
   "metadata": {},
   "outputs": [],
   "source": [
    "# The model necessarily yields word embeddings as the weights of the first layer, which is usually referred to as Embedding Layer"
   ]
  },
  {
   "cell_type": "code",
   "execution_count": 9,
   "id": "5692286e",
   "metadata": {},
   "outputs": [],
   "source": [
    "from tensorflow.keras.preprocessing.text import Tokenizer\n",
    "from tensorflow.keras.preprocessing.sequence import pad_sequences"
   ]
  },
  {
   "cell_type": "code",
   "execution_count": 11,
   "id": "676b7156",
   "metadata": {},
   "outputs": [],
   "source": [
    "num_words = 4000\n",
    "# Out of vocabulary token is named as <OOV>\n",
    "tokenizer = Tokenizer(num_words = num_words, oov_token=\"<OOV>\")\n",
    "tokenizer.fit_on_texts(combined)\n",
    "\n",
    "# Assumung the maxlen of word to be 300, that 1169 is fishy. Padding as well.\n",
    "sequences_input1 = tokenizer.texts_to_sequences(question1)\n",
    "sequences_input1 = pad_sequences(sequences_input1, maxlen = 300, padding = \"post\")\n",
    "\n",
    "sequences_input2 = tokenizer.texts_to_sequences(question2)\n",
    "sequences_input2 = pad_sequences(sequences_input2, maxlen = 300, padding = \"post\")"
   ]
  },
  {
   "cell_type": "code",
   "execution_count": 21,
   "id": "d8cd97a2",
   "metadata": {},
   "outputs": [
    {
     "name": "stdout",
     "output_type": "stream",
     "text": [
      "Number of word vectors are 400000\n"
     ]
    }
   ],
   "source": [
    "import os\n",
    "\n",
    "glove_dir = \"\"\n",
    "embeddings_index = {}\n",
    "\n",
    "# char map decoding errors, specify the file format\n",
    "with open(os.path.join(glove_dir, \"glove.6B.50d.txt\"), encoding='utf-8') as f:\n",
    "    for line in f:\n",
    "        values = line.split() # Split by space\n",
    "        \n",
    "        word = values[0]\n",
    "        # Convert the string coefficients to float values and store as numpy array\n",
    "        coeffs = np.asarray(values[1:], dtype='float32')\n",
    "        embeddings_index[word] = coeffs\n",
    "        \n",
    "        \n",
    "print(f\"Number of word vectors are {len(embeddings_index)}\")"
   ]
  },
  {
   "cell_type": "code",
   "execution_count": 22,
   "id": "f3a03351",
   "metadata": {},
   "outputs": [
    {
     "data": {
      "text/plain": [
       "95597"
      ]
     },
     "execution_count": 22,
     "metadata": {},
     "output_type": "execute_result"
    }
   ],
   "source": [
    "len(tokenizer.word_index.items())"
   ]
  },
  {
   "cell_type": "code",
   "execution_count": 23,
   "id": "d47e92ab",
   "metadata": {},
   "outputs": [],
   "source": [
    "# Creating the embedding matrix, check online. Rows are the words and columns are the dimensions or word vectors\n",
    "# Number of word dimensions of th gloveModel is 100\n",
    "num_dimensions = 50\n",
    "embeddings_matrix = np.zeros((num_words, num_dimensions))\n",
    "\n",
    "for word_token, i in tokenizer.word_index.items():\n",
    "#     There are 95597 words, but training so many words is hard, hence just choose 10,000 or num_words;\n",
    "    if i < num_words:\n",
    "#         get returns None, whereas just indexing it returns a keyError.\n",
    "        dimension_vector = embeddings_index.get(word_token)\n",
    "#         There may be words, that are not in the glove model, but are in the tokenizer\n",
    "\n",
    "        # The i of this for loop starts as one, as the first token <OOV> is given the index 1. Hence we need to add 1 somewhere to keep\n",
    "        # things consistent.\n",
    "        if dimension_vector is not None:\n",
    "            embeddings_matrix[i] = dimension_vector"
   ]
  },
  {
   "cell_type": "code",
   "execution_count": 24,
   "id": "e540a1b1",
   "metadata": {},
   "outputs": [],
   "source": [
    "# Creating the model\n",
    "from tensorflow.keras.layers import Bidirectional\n",
    "from tensorflow.keras.layers import Input\n",
    "from tensorflow.keras.layers import Embedding\n",
    "from tensorflow.keras.layers import LSTM\n",
    "\n",
    "lstm_layer = Bidirectional(LSTM(32, dropout = 0.2, recurrent_dropout = 0.2))\n",
    "\n",
    "# emb matrix. Glove Vectors, don't train again\n",
    "emb = Embedding(num_words, num_dimensions, input_length = 300, trainable = False, weights = [embeddings_matrix])\n",
    "\n",
    "# 2 things to compare.\n",
    "input1 = Input(shape=(300,))\n",
    "e1 = emb(input1)\n",
    "x1 = lstm_layer(e1)\n",
    "\n",
    "input2 = Input(shape=(300,))\n",
    "e2 = emb(input2)\n",
    "x2 = lstm_layer(e2)\n",
    "\n",
    "mhd = lambda x: tf.keras.backend.abs(x[0] - x[1])\n",
    "\n",
    "# Doubt in this line of code. x[0] and x[1], are the inputs of the array [x1, x2]. A layer has two inputs, so we subtract each training example, x[0] and x[1].\n",
    "# Output shape is x[0], as when we subtract two quantities of same shape etc, we get a result of any of the input shapes. It can also be x[1], it doesn't matter.\n",
    "merged = tf.keras.layers.Lambda(function=mhd, output_shape=lambda x: x[0], name='L1_distance')([x1, x2])\n",
    "\n",
    "# Sigmoid activation to squash our output between 0 and 1.(1 refers to maximum similarity and 0 refers to minimum similarity).\n",
    "preds = tf.keras.layers.Dense(1, activation='sigmoid')(merged)\n",
    "\n",
    "# Similarity between two pieces of text.\n",
    "model = tf.keras.Model(inputs=[input1, input2], outputs=preds)\n",
    "\n",
    "# Mean square error\n",
    "model.compile(loss='mse', optimizer='adam')"
   ]
  },
  {
   "cell_type": "code",
   "execution_count": 25,
   "id": "24dfe2af",
   "metadata": {},
   "outputs": [],
   "source": [
    "import seaborn as sns"
   ]
  },
  {
   "cell_type": "code",
   "execution_count": 26,
   "id": "7b53cbf7",
   "metadata": {},
   "outputs": [
    {
     "data": {
      "text/plain": [
       "<AxesSubplot:xlabel='is_duplicate', ylabel='count'>"
      ]
     },
     "execution_count": 26,
     "metadata": {},
     "output_type": "execute_result"
    },
    {
     "data": {
      "image/png": "[encoded data removed]",
      "text/plain": [
       "<Figure size 432x288 with 1 Axes>"
      ]
     },
     "metadata": {
      "needs_background": "light"
     },
     "output_type": "display_data"
    }
   ],
   "source": [
    "sns.countplot(x = df[\"is_duplicate\"][0:5000])"
   ]
  },
  {
   "cell_type": "code",
   "execution_count": 27,
   "id": "4a92c3c7",
   "metadata": {},
   "outputs": [],
   "source": [
    "sequences_input1 = sequences_input1[0:5000]\n",
    "sequences_input2 = sequences_input2[0:5000]"
   ]
  },
  {
   "cell_type": "code",
   "execution_count": 28,
   "id": "ae657f92",
   "metadata": {},
   "outputs": [],
   "source": [
    "from sklearn.model_selection import train_test_split\n",
    "\n",
    "def split_data(df):\n",
    "    features = df.drop(columns=['id', 'qid1', 'qid2', 'is_duplicate']).values\n",
    "    labels = df['is_duplicate'][:5000].values.astype(\"float32\")\n",
    "#     print(features[:10])\n",
    "#     print(labels[:10])\n",
    "    X_train1, X_test1, y_train, y_test = train_test_split(sequences_input1, labels, test_size=0.2, random_state=42)\n",
    "    X_train2, X_test2, y_train, y_test = train_test_split(sequences_input2, labels, test_size=0.2, random_state=42)\n",
    "    \n",
    "    return X_train1, X_test1, y_train, y_test, X_train2, X_test2\n"
   ]
  },
  {
   "cell_type": "code",
   "execution_count": 30,
   "id": "7cbfdace",
   "metadata": {},
   "outputs": [],
   "source": [
    "X_train1, X_test1, y_train, y_test, X_train2, X_test2 = split_data(df)"
   ]
  },
  {
   "cell_type": "code",
   "execution_count": 31,
   "id": "b2fdbc96",
   "metadata": {},
   "outputs": [],
   "source": [
    "import matplotlib.pyplot as plt"
   ]
  },
  {
   "cell_type": "code",
   "execution_count": 33,
   "id": "8fa9ee66",
   "metadata": {},
   "outputs": [
    {
     "name": "stdout",
     "output_type": "stream",
     "text": [
      "Epoch 1/50\n",
      "125/125 [==============================] - 90s 722ms/step - loss: 0.2317 - val_loss: 0.2249\n",
      "Epoch 2/50\n",
      "125/125 [==============================] - 86s 686ms/step - loss: 0.2222 - val_loss: 0.2198\n",
      "Epoch 3/50\n",
      "125/125 [==============================] - 90s 718ms/step - loss: 0.2184 - val_loss: 0.2150\n",
      "Epoch 4/50\n",
      "125/125 [==============================] - 93s 741ms/step - loss: 0.2156 - val_loss: 0.2138\n",
      "Epoch 5/50\n",
      "125/125 [==============================] - 96s 768ms/step - loss: 0.2117 - val_loss: 0.2154\n",
      "Epoch 6/50\n",
      "125/125 [==============================] - 98s 783ms/step - loss: 0.2081 - val_loss: 0.2151\n",
      "Epoch 7/50\n",
      "125/125 [==============================] - 94s 751ms/step - loss: 0.2040 - val_loss: 0.2045\n",
      "Epoch 8/50\n",
      "125/125 [==============================] - 90s 720ms/step - loss: 0.2024 - val_loss: 0.2065\n",
      "Epoch 9/50\n",
      "125/125 [==============================] - 88s 707ms/step - loss: 0.1994 - val_loss: 0.2012\n",
      "Epoch 10/50\n",
      "125/125 [==============================] - 89s 712ms/step - loss: 0.1963 - val_loss: 0.2028\n",
      "Epoch 11/50\n",
      "125/125 [==============================] - 84s 676ms/step - loss: 0.1943 - val_loss: 0.2038\n",
      "Epoch 12/50\n",
      "125/125 [==============================] - 86s 692ms/step - loss: 0.1920 - val_loss: 0.2031\n",
      "Epoch 13/50\n",
      "125/125 [==============================] - 84s 674ms/step - loss: 0.1875 - val_loss: 0.2000\n",
      "Epoch 14/50\n",
      "125/125 [==============================] - 84s 668ms/step - loss: 0.1884 - val_loss: 0.2040\n",
      "Epoch 15/50\n",
      "125/125 [==============================] - 83s 668ms/step - loss: 0.1847 - val_loss: 0.2040\n",
      "Epoch 16/50\n",
      "125/125 [==============================] - 84s 671ms/step - loss: 0.1819 - val_loss: 0.2118\n",
      "Epoch 17/50\n",
      "125/125 [==============================] - 85s 681ms/step - loss: 0.1815 - val_loss: 0.2004\n",
      "Epoch 18/50\n",
      "125/125 [==============================] - 84s 671ms/step - loss: 0.1792 - val_loss: 0.2052\n",
      "Epoch 19/50\n",
      "125/125 [==============================] - 84s 668ms/step - loss: 0.1769 - val_loss: 0.2084\n",
      "Epoch 20/50\n",
      "125/125 [==============================] - 84s 670ms/step - loss: 0.1752 - val_loss: 0.2054\n",
      "Epoch 21/50\n",
      "125/125 [==============================] - 84s 669ms/step - loss: 0.1742 - val_loss: 0.2019\n",
      "Epoch 22/50\n",
      "125/125 [==============================] - 88s 705ms/step - loss: 0.1698 - val_loss: 0.2058\n",
      "Epoch 23/50\n",
      "125/125 [==============================] - 92s 733ms/step - loss: 0.1698 - val_loss: 0.2095\n",
      "Epoch 24/50\n",
      "125/125 [==============================] - 92s 739ms/step - loss: 0.1668 - val_loss: 0.2007\n",
      "Epoch 25/50\n",
      "125/125 [==============================] - 100s 802ms/step - loss: 0.1670 - val_loss: 0.2009\n",
      "Epoch 26/50\n",
      "125/125 [==============================] - 100s 803ms/step - loss: 0.1665 - val_loss: 0.2047\n",
      "Epoch 27/50\n",
      "125/125 [==============================] - 89s 714ms/step - loss: 0.1646 - val_loss: 0.2059\n",
      "Epoch 28/50\n",
      "125/125 [==============================] - 92s 735ms/step - loss: 0.1651 - val_loss: 0.2078\n",
      "Epoch 29/50\n",
      "125/125 [==============================] - 96s 765ms/step - loss: 0.1629 - val_loss: 0.2114\n",
      "Epoch 30/50\n",
      "125/125 [==============================] - 84s 671ms/step - loss: 0.1578 - val_loss: 0.2051\n",
      "Epoch 31/50\n",
      "125/125 [==============================] - 83s 661ms/step - loss: 0.1570 - val_loss: 0.2080\n",
      "Epoch 32/50\n",
      "125/125 [==============================] - 85s 681ms/step - loss: 0.1577 - val_loss: 0.2032\n",
      "Epoch 33/50\n",
      "125/125 [==============================] - 85s 676ms/step - loss: 0.1566 - val_loss: 0.2125\n",
      "Epoch 34/50\n",
      "125/125 [==============================] - 92s 735ms/step - loss: 0.1557 - val_loss: 0.2024\n",
      "Epoch 35/50\n",
      "125/125 [==============================] - 96s 768ms/step - loss: 0.1531 - val_loss: 0.2137\n",
      "Epoch 36/50\n",
      "125/125 [==============================] - 99s 796ms/step - loss: 0.1530 - val_loss: 0.2144\n",
      "Epoch 37/50\n",
      "125/125 [==============================] - 106s 852ms/step - loss: 0.1525 - val_loss: 0.2050\n",
      "Epoch 38/50\n",
      "125/125 [==============================] - 94s 756ms/step - loss: 0.1494 - val_loss: 0.2106\n",
      "Epoch 39/50\n",
      "125/125 [==============================] - 88s 700ms/step - loss: 0.1476 - val_loss: 0.2048\n",
      "Epoch 40/50\n",
      "125/125 [==============================] - 87s 698ms/step - loss: 0.1508 - val_loss: 0.2081\n",
      "Epoch 41/50\n",
      "125/125 [==============================] - 88s 704ms/step - loss: 0.1462 - val_loss: 0.2076\n",
      "Epoch 42/50\n",
      "125/125 [==============================] - 85s 683ms/step - loss: 0.1458 - val_loss: 0.2096\n",
      "Epoch 43/50\n",
      "125/125 [==============================] - 85s 682ms/step - loss: 0.1446 - val_loss: 0.2125\n",
      "Epoch 44/50\n",
      "125/125 [==============================] - 87s 696ms/step - loss: 0.1453 - val_loss: 0.2120\n",
      "Epoch 45/50\n",
      "125/125 [==============================] - 85s 679ms/step - loss: 0.1397 - val_loss: 0.2080\n",
      "Epoch 46/50\n",
      "125/125 [==============================] - 90s 719ms/step - loss: 0.1396 - val_loss: 0.2149\n",
      "Epoch 47/50\n",
      "125/125 [==============================] - 87s 693ms/step - loss: 0.1400 - val_loss: 0.2164\n",
      "Epoch 48/50\n",
      "125/125 [==============================] - 87s 700ms/step - loss: 0.1402 - val_loss: 0.2100\n",
      "Epoch 49/50\n",
      "125/125 [==============================] - 87s 698ms/step - loss: 0.1363 - val_loss: 0.2090\n",
      "Epoch 50/50\n",
      "125/125 [==============================] - 84s 672ms/step - loss: 0.1370 - val_loss: 0.2172\n"
     ]
    }
   ],
   "source": [
    "history = model.fit([X_train1, X_train2], y_train, epochs=50, validation_data=([X_test1,  X_test2], y_test))"
   ]
  },
  {
   "cell_type": "code",
   "execution_count": 38,
   "id": "d3834f1d",
   "metadata": {},
   "outputs": [
    {
     "data": {
      "text/plain": [
       "[<matplotlib.lines.Line2D at 0x1e0fed19d60>]"
      ]
     },
     "execution_count": 38,
     "metadata": {},
     "output_type": "execute_result"
    },
    {
     "data": {
      "image/png": "[encoded data removed]",
      "text/plain": [
       "<Figure size 432x288 with 1 Axes>"
      ]
     },
     "metadata": {
      "needs_background": "light"
     },
     "output_type": "display_data"
    }
   ],
   "source": [
    "# Loss decreases, so we are correct.\n",
    "plt.plot(history.history['loss'])"
   ]
  },
  {
   "cell_type": "code",
   "execution_count": 40,
   "id": "d247f894",
   "metadata": {},
   "outputs": [],
   "source": [
    "predictions = model.predict([X_test1, X_test2])"
   ]
  },
  {
   "cell_type": "code",
   "execution_count": 59,
   "id": "d212d31d",
   "metadata": {},
   "outputs": [],
   "source": [
    "def binary(x):\n",
    "    if x[0] >= 0.5:\n",
    "        return 1\n",
    "    else:\n",
    "        return 0\n",
    "\n",
    "binary_predictions = map(binary, predictions)"
   ]
  },
  {
   "cell_type": "code",
   "execution_count": 60,
   "id": "5098989d",
   "metadata": {},
   "outputs": [
    {
     "data": {
      "text/plain": [
       "array([[1.8942049e-01],\n",
       "       [2.5627634e-01],\n",
       "       [7.2096217e-01],\n",
       "       [5.3343177e-04],\n",
       "       [4.2628527e-01],\n",
       "       [7.7849746e-02],\n",
       "       [4.2629689e-02],\n",
       "       [7.9144537e-01],\n",
       "       [4.1681826e-03],\n",
       "       [2.8759420e-01]], dtype=float32)"
      ]
     },
     "execution_count": 60,
     "metadata": {},
     "output_type": "execute_result"
    }
   ],
   "source": [
    "predictions[:10]"
   ]
  },
  {
   "cell_type": "code",
   "execution_count": 61,
   "id": "a8a1b682",
   "metadata": {},
   "outputs": [],
   "source": [
    "binary_predictions = list(binary_predictions)"
   ]
  },
  {
   "cell_type": "code",
   "execution_count": 68,
   "id": "382e19e4",
   "metadata": {},
   "outputs": [],
   "source": [
    "binary_predictions = np.asarray(binary_predictions).astype(\"float32\")"
   ]
  },
  {
   "cell_type": "code",
   "execution_count": 71,
   "id": "1e9fa0cb",
   "metadata": {},
   "outputs": [
    {
     "name": "stdout",
     "output_type": "stream",
     "text": [
      "[[520  76]\n",
      " [276 128]]\n",
      "              precision    recall  f1-score   support\n",
      "\n",
      "         0.0       0.65      0.87      0.75       596\n",
      "         1.0       0.63      0.32      0.42       404\n",
      "\n",
      "    accuracy                           0.65      1000\n",
      "   macro avg       0.64      0.59      0.58      1000\n",
      "weighted avg       0.64      0.65      0.62      1000\n",
      "\n"
     ]
    }
   ],
   "source": [
    "from sklearn.metrics import classification_report, confusion_matrix\n",
    "\n",
    "print(confusion_matrix(y_true=y_test, y_pred=binary_predictions))\n",
    "print(classification_report(y_true=y_test, y_pred=binary_predictions))"
   ]
  }
 ],
 "metadata": {
  "kernelspec": {
   "display_name": "Python 3 (ipykernel)",
   "language": "python",
   "name": "python3"
  },
  "language_info": {
   "codemirror_mode": {
    "name": "ipython",
    "version": 3
   },
   "file_extension": ".py",
   "mimetype": "text/x-python",
   "name": "python",
   "nbconvert_exporter": "python",
   "pygments_lexer": "ipython3",
   "version": "3.9.7"
  }
 },
 "nbformat": 4,
 "nbformat_minor": 5
}
