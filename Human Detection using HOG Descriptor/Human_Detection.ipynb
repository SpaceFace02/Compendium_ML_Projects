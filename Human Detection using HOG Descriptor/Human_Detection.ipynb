{
 "cells": [
  {
   "cell_type": "markdown",
   "metadata": {},
   "source": [
    "## USING HOG-Descriptor\n",
    "The HOG descriptor focuses on the structure or the shape of an object. Now you might ask, how is this different from the edge features we extract for images? In the case of edge features, we only identify if the pixel is an edge or not. HOG is able to provide the edge direction as well. This is done by extracting the gradient and orientation (or you can say magnitude and direction) of the edges\n",
    "Additionally, these orientations are calculated in ‘localized’ portions. This means that the complete image is broken down into smaller regions and for each region, the gradients and orientation are calculated.\n",
    "Finally the HOG would generate a Histogram for each of these regions separately. The histograms are created using the gradients and orientations of the pixel values, hence the name ‘Histogram of Oriented Gradients’\n",
    "\n",
    "The HOG feature descriptor counts the occurrences of gradient orientation in localized portions of an image.\n",
    "\n",
    "https://www.analyticsvidhya.com/blog/2019/09/feature-engineering-images-introduction-hog-feature-descriptor/ -- Reference website."
   ]
  },
  {
   "cell_type": "code",
   "execution_count": 1,
   "metadata": {},
   "outputs": [],
   "source": [
    "import cv2\n",
    "import imutils\n",
    "import numpy as np"
   ]
  },
  {
   "cell_type": "code",
   "execution_count": 2,
   "metadata": {},
   "outputs": [],
   "source": [
    "HOGCV = cv2.HOGDescriptor()\n",
    "\n",
    "HOGCV.setSVMDetector(cv2.HOGDescriptor_getDefaultPeopleDetector())\n",
    "\n",
    "def detect(frame):\n",
    "    bounding_box_cordinates, weights =  HOGCV.detectMultiScale(frame, winStride = (4, 4), padding = (8, 8), scale = 1.03)\n",
    "    person = 1\n",
    "    \n",
    "    for x,y,w,h in bounding_box_cordinates:\n",
    "        cv2.rectangle(frame ,(x,y) ,(x+w,y+h) ,(0,255,0) ,2)\n",
    "        cv2.putText(frame ,f'Person {person}' ,(x,y) , cv2.FONT_HERSHEY_COMPLEX ,0.5 ,(0,255,255) ,1)\n",
    "        person +=1\n",
    "        \n",
    "        \n",
    "    cv2.putText(frame ,'Status : Detecting' ,(40,40) ,cv2.FONT_HERSHEY_SCRIPT_SIMPLEX ,0.8 ,(255,0,0) ,2)\n",
    "    cv2.putText(frame, f'Total Persons : {person-1}', (40,70), cv2.FONT_HERSHEY_DUPLEX, 0.8, (255,0,0), 2)\n",
    "    \n",
    "    cv2.imshow('frame' ,frame)\n",
    "    \n",
    "    return frame"
   ]
  },
  {
   "cell_type": "code",
   "execution_count": 3,
   "metadata": {},
   "outputs": [],
   "source": [
    "import time"
   ]
  },
  {
   "cell_type": "code",
   "execution_count": 7,
   "metadata": {},
   "outputs": [],
   "source": [
    "def human_detector(video_path):\n",
    "    cap =  cv2.VideoCapture('Running - 294.mp4')\n",
    "    \n",
    "    while cap.isOpened() == False:\n",
    "        print('Wrong Codec')\n",
    "        return\n",
    "\n",
    "    print('Detecting People')\n",
    "    \n",
    "    while cap.isOpened():\n",
    "        ret ,frame = cap.read()\n",
    "        if ret == False:\n",
    "            print('Video not found')\n",
    "            return\n",
    "        \n",
    "        if ret:\n",
    "            frame = imutils.resize(frame , width=min(800,frame.shape[1])) # As we might not know the size of our image , hence we need to specify min(width,frame.shape[1])\n",
    "            frame = detect(frame)\n",
    "            \n",
    "                \n",
    "            if cv2.waitKey(10) == 27:\n",
    "                break\n",
    "                \n",
    "        else:\n",
    "            break\n",
    "            \n",
    "    cap.release()\n",
    "    cv2.destroyAllWindows()"
   ]
  },
  {
   "cell_type": "code",
   "execution_count": null,
   "metadata": {},
   "outputs": [
    {
     "name": "stdout",
     "output_type": "stream",
     "text": [
      "Detecting People\n"
     ]
    }
   ],
   "source": [
    "human_detector(video_path='video.mp4')"
   ]
  }
 ],
 "metadata": {
  "kernelspec": {
   "display_name": "Python 3 (ipykernel)",
   "language": "python",
   "name": "python3"
  },
  "language_info": {
   "codemirror_mode": {
    "name": "ipython",
    "version": 3
   },
   "file_extension": ".py",
   "mimetype": "text/x-python",
   "name": "python",
   "nbconvert_exporter": "python",
   "pygments_lexer": "ipython3",
   "version": "3.9.7"
  }
 },
 "nbformat": 4,
 "nbformat_minor": 4
}
