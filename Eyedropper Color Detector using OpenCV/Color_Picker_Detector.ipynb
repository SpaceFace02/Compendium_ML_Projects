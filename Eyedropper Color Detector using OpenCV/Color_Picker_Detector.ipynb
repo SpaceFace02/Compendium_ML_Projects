{
 "cells": [
  {
   "cell_type": "markdown",
   "metadata": {},
   "source": [
    "### **COLOR DETECTOR - DETECTS AROUND 80 COLORS IN AN IMAGE**"
   ]
  },
  {
   "cell_type": "code",
   "execution_count": 1,
   "metadata": {},
   "outputs": [],
   "source": [
    "import pandas as pd\n",
    "import cv2"
   ]
  },
  {
   "cell_type": "code",
   "execution_count": 2,
   "metadata": {},
   "outputs": [],
   "source": [
    "cols = ['Color' ,'Color Name' ,'Hex Code' ,'R' ,'G' ,'B']\n",
    "df = pd.read_csv('colors.csv' , names = cols , header=None)\n",
    "img = cv2.imread('Colorful Image.jpg')\n",
    "img = cv2.cvtColor(img , cv2.COLOR_BGR2RGB)  # Always change color mode twice ,once before resizing , once after it.\n",
    "img = cv2.resize(img ,(1000,550))\n",
    "img = cv2.cvtColor(img , cv2.COLOR_BGR2RGB)  # Alwyas resize and then change color mode as resizing resets color mode."
   ]
  },
  {
   "cell_type": "code",
   "execution_count": 3,
   "metadata": {},
   "outputs": [
    {
     "data": {
      "text/plain": [
       "93"
      ]
     },
     "execution_count": 3,
     "metadata": {},
     "output_type": "execute_result"
    }
   ],
   "source": [
    "df['R'][0]"
   ]
  },
  {
   "cell_type": "code",
   "execution_count": 4,
   "metadata": {},
   "outputs": [
    {
     "data": {
      "text/plain": [
       "93"
      ]
     },
     "execution_count": 4,
     "metadata": {},
     "output_type": "execute_result"
    }
   ],
   "source": [
    "df.loc[0,\"R\"]"
   ]
  },
  {
   "cell_type": "code",
   "execution_count": 5,
   "metadata": {},
   "outputs": [],
   "source": [
    "clicked = False\n",
    "def draw_function(event,x,y,flags,param):\n",
    "    if event == cv2.EVENT_LBUTTONDOWN:  \n",
    "        global b,g,r,clicked,xpos,ypos\n",
    "        clicked = True  # cv2 takes colour in form of b g r , not r g b.\n",
    "        xpos = x  # As when we move the mouse , even the x coordinate changes , so to fix the point where we clicked, we need to hard code it to xpos and ypos.\n",
    "        ypos = y\n",
    "    \n",
    "        b,g,r = img[y,x]\n",
    "        b = int(b)\n",
    "        g = int(g)\n",
    "        r = int(r)\n",
    "    \n",
    "    \n",
    "cv2.namedWindow('Color Picker')\n",
    "cv2.setMouseCallback('Color Picker' , draw_function)\n",
    "    \n",
    "    \n",
    "def detect_color(r,g,b):\n",
    "    minimum = 1000\n",
    "    for i in range(len(df)):\n",
    "        dist = abs(r-int(df['R'][i])) + abs(g-int(df['G'][i])) + abs(b-int(df['B'][i]))  # Iterating through each row in the df and calculating the distance from each row.\n",
    "        if dist <= minimum:\n",
    "            minimum = dist  # So that minimum keeps on decreasing as the loop goes forward. If we keep a low value at start , \n",
    "                            # then maybe the color may not be that exact so as to fit within that min distance..\n",
    "            cname = df['Color Name'][i]\n",
    "    \n",
    "    return  cname\n",
    "\n",
    "\n",
    "while True:\n",
    "    cv2.imshow('Color Picker' ,img)\n",
    "    \n",
    "    if (clicked):\n",
    "        cv2.rectangle(img=img ,pt1=(20,20) ,pt2=(750,60) ,color=(b,g,r),thickness=-1)  # FILLED RECTANGLE\n",
    "        text = detect_color(r,g,b) + ' R= ' + str(r) + ' G= ' + str(g) + ' B= ' + str(b)  \n",
    "        if (r+g+b <= 550):\n",
    "            cv2.putText(img , text , (50,50) ,2 ,0.8 , (255,255,255) ,2,cv2.LINE_AA)\n",
    "        \n",
    "        if (r+g+b > 550):\n",
    "            cv2.putText(img , text , (50,50) ,2 ,0.8 , (0,0,0) ,2,cv2.LINE_AA)\n",
    "        \n",
    "        clicked = False\n",
    "        \n",
    "    if cv2.waitKey(10) ==27:\n",
    "        break\n",
    "        \n",
    "cv2.destroyAllWindows()\n",
    "    "
   ]
  }
 ],
 "metadata": {
  "kernelspec": {
   "display_name": "Python 3 (ipykernel)",
   "language": "python",
   "name": "python3"
  },
  "language_info": {
   "codemirror_mode": {
    "name": "ipython",
    "version": 3
   },
   "file_extension": ".py",
   "mimetype": "text/x-python",
   "name": "python",
   "nbconvert_exporter": "python",
   "pygments_lexer": "ipython3",
   "version": "3.9.7"
  }
 },
 "nbformat": 4,
 "nbformat_minor": 4
}
