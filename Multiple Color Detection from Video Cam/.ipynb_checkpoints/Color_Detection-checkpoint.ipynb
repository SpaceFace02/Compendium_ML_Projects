{
 "cells": [
  {
   "cell_type": "code",
   "execution_count": 1,
   "metadata": {},
   "outputs": [],
   "source": [
    "import numpy as np\n",
    "import cv2\n",
    "import matplotlib.pyplot as plt"
   ]
  },
  {
   "cell_type": "code",
   "execution_count": 2,
   "metadata": {},
   "outputs": [],
   "source": [
    "cap = cv2.VideoCapture(0)\n",
    "\n",
    "while True:\n",
    "    ret ,frame = cap.read()\n",
    "    hsvFrame = cv2.cvtColor(frame, cv2.COLOR_BGR2HSV)   # Convert to hsv for better recognition. Always convert to hsv if you have to detect anything only for the computer...\n",
    "    \n",
    "    # Set limit for red color ,eg maroon is also displayed as red\n",
    "    red_lower = np.array([136, 87, 111], np.uint8)   # I guess its mostly Hue ,Saturation ,Color ; not rgb or bgr values. Its a HSV file.\n",
    "    red_upper = np.array([180, 255, 255], np.uint8) \n",
    "    red_mask = cv2.inRange(hsvFrame, red_lower, red_upper) \n",
    "    \n",
    "    # limit for green , teal ,turquoise is also detected green\n",
    "    green_lower = np.array([25, 52, 72], np.uint8) \n",
    "    green_upper = np.array([102, 255, 255], np.uint8) \n",
    "    green_mask = cv2.inRange(hsvFrame, green_lower, green_upper) \n",
    "    \n",
    "    blue_lower = np.array([94, 80, 2], np.uint8) \n",
    "    blue_upper = np.array([120, 255, 255], np.uint8) \n",
    "    blue_mask = cv2.inRange(hsvFrame, blue_lower, blue_upper) \n",
    "    \n",
    "    # Morphological Transform, Dilation for each color and bitwise_and operator between imageFrame and mask determines to detect only that particular color \n",
    "    kernal = np.ones((5,5) ,'uint8')\n",
    "    \n",
    "    red_mask = cv2.dilate(red_mask, kernal) \n",
    "    res_red = cv2.bitwise_and(frame, frame,  \n",
    "                              mask = red_mask)\n",
    "    \n",
    "#     Bitwise and just does some bit arithmetic and masks the image, so that the the black part is omitted and the white part is shown.\n",
    "    green_mask = cv2.dilate(green_mask, kernal) \n",
    "    res_green = cv2.bitwise_and(frame, frame, \n",
    "                                mask = green_mask) \n",
    "    \n",
    "    blue_mask = cv2.dilate(blue_mask, kernal) \n",
    "    res_blue = cv2.bitwise_and(frame, frame, \n",
    "                               mask = blue_mask) \n",
    "    \n",
    "    # Contours to track red colour. (functions from docs)\n",
    "    contours , heirarchy = cv2.findContours(red_mask,cv2.RETR_TREE ,cv2.CHAIN_APPROX_SIMPLE)\n",
    "    \n",
    "    \n",
    "    for pic,contour in enumerate(contours):\n",
    "        area = cv2.contourArea(contour)\n",
    "        \n",
    "        if (area>500):\n",
    "            x,y,w,h = cv2.boundingRect(contour)\n",
    "            \n",
    "            frame = cv2.rectangle(frame, (x, y),  \n",
    "                                       (x + w, y + h),  \n",
    "                                       (0, 0, 255), 2) \n",
    "            \n",
    "            cv2.putText(frame, \"Red Colour\", (x, y), \n",
    "                        cv2.FONT_HERSHEY_SIMPLEX, 1.0, \n",
    "                        (0, 0, 255))    \n",
    "            \n",
    "            \n",
    "    # Creating contour to track green color \n",
    "    contours, hierarchy = cv2.findContours(green_mask, \n",
    "                                           cv2.RETR_TREE, \n",
    "                                           cv2.CHAIN_APPROX_SIMPLE) \n",
    "      \n",
    "    for pic, contour in enumerate(contours): \n",
    "        area = cv2.contourArea(contour) \n",
    "        if(area > 500): \n",
    "            x, y, w, h = cv2.boundingRect(contour) \n",
    "            imageFrame = cv2.rectangle(frame, (x, y),  \n",
    "                                       (x + w, y + h), \n",
    "                                       (0, 255, 0), 2) \n",
    "              \n",
    "            cv2.putText(frame, \"Green Colour\", (x, y), \n",
    "                        cv2.FONT_HERSHEY_SIMPLEX,  \n",
    "                        1.0, (0, 255, 0)) \n",
    "  \n",
    "    # Creating contour to track blue color \n",
    "    contours, hierarchy = cv2.findContours(blue_mask, \n",
    "                                           cv2.RETR_TREE, \n",
    "                                           cv2.CHAIN_APPROX_SIMPLE) \n",
    "    for pic, contour in enumerate(contours): \n",
    "        area = cv2.contourArea(contour) \n",
    "        if(area > 500): \n",
    "            x, y, w, h = cv2.boundingRect(contour) \n",
    "            imageFrame = cv2.rectangle(frame, (x, y), \n",
    "                                       (x + w, y + h), \n",
    "                                       (255, 0, 0), 2) \n",
    "              \n",
    "            cv2.putText(frame, \"Blue Colour\", (x, y), \n",
    "                        cv2.FONT_HERSHEY_SIMPLEX, \n",
    "                        1.0, (255, 0, 0)) \n",
    "            \n",
    "    cv2.imshow(\"Multiple Color Detection in Real-TIme\", frame)\n",
    "    \n",
    "#     Quitting when the q key is pressed.\n",
    "    if cv2.waitKey(10) & 0xFF == ord('q'): \n",
    "        cap.release() \n",
    "        cv2.destroyAllWindows() \n",
    "        break"
   ]
  },
  {
   "cell_type": "code",
   "execution_count": 3,
   "metadata": {},
   "outputs": [],
   "source": [
    "img = cv2.imread('Colored boxes.jpg')\n",
    "img_1 = cv2.cvtColor(img , cv2.COLOR_BGR2RGB)\n",
    "hsvFrame = cv2.cvtColor(img, cv2.COLOR_BGR2HSV)\n",
    "\n",
    "red_lower = np.array([136, 87, 111], np.uint8)   # I guess its mostly Hue ,Saturation ,Color ; not rgb or bgr values. Its a HSV file.\n",
    "red_upper = np.array([180, 255, 255], np.uint8) \n",
    "red_mask = cv2.inRange(hsvFrame, red_lower, red_upper) \n",
    "kernel = np.ones((5,5) ,'uint8')\n",
    "red_mask_dilated = cv2.dilate(red_mask, kernel) \n",
    "res_red = cv2.bitwise_and(img, img,  \n",
    "                              mask = red_mask_dilated)"
   ]
  },
  {
   "cell_type": "code",
   "execution_count": 7,
   "metadata": {},
   "outputs": [
    {
     "data": {
      "text/plain": [
       "array([[1, 1, 1, 1, 1],\n",
       "       [1, 1, 1, 1, 1],\n",
       "       [1, 1, 1, 1, 1],\n",
       "       [1, 1, 1, 1, 1],\n",
       "       [1, 1, 1, 1, 1]], dtype=uint8)"
      ]
     },
     "execution_count": 7,
     "metadata": {},
     "output_type": "execute_result"
    }
   ],
   "source": [
    "kernel"
   ]
  },
  {
   "cell_type": "code",
   "execution_count": 10,
   "metadata": {},
   "outputs": [
    {
     "data": {
      "text/plain": [
       "<matplotlib.image.AxesImage at 0x27a3b20ffa0>"
      ]
     },
     "execution_count": 10,
     "metadata": {},
     "output_type": "execute_result"
    },
    {
     "data": {
      "image/png": "[encoded data removed]",
      "text/plain": [
       "<Figure size 432x288 with 1 Axes>"
      ]
     },
     "metadata": {
      "needs_background": "light"
     },
     "output_type": "display_data"
    }
   ],
   "source": [
    "plt.imshow(res_red)"
   ]
  }
 ],
 "metadata": {
  "kernelspec": {
   "display_name": "Python 3 (ipykernel)",
   "language": "python",
   "name": "python3"
  },
  "language_info": {
   "codemirror_mode": {
    "name": "ipython",
    "version": 3
   },
   "file_extension": ".py",
   "mimetype": "text/x-python",
   "name": "python",
   "nbconvert_exporter": "python",
   "pygments_lexer": "ipython3",
   "version": "3.9.7"
  }
 },
 "nbformat": 4,
 "nbformat_minor": 4
}
