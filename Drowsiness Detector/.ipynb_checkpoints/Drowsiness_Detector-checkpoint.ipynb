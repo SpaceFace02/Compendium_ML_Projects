{
 "cells": [
  {
   "cell_type": "code",
   "execution_count": 1,
   "metadata": {},
   "outputs": [],
   "source": [
    "import cv2\n",
    "import matplotlib.pyplot as plt\n",
    "from tensorflow.keras.models import load_model\n",
    "import keras\n",
    "import numpy as np"
   ]
  },
  {
   "cell_type": "code",
   "execution_count": 2,
   "metadata": {},
   "outputs": [
    {
     "name": "stdout",
     "output_type": "stream",
     "text": [
      "pygame 1.9.6\n",
      "Hello from the pygame community. https://www.pygame.org/contribute.html\n"
     ]
    }
   ],
   "source": [
    "from pygame import mixer\n",
    "mixer.init()\n",
    "sound = mixer.Sound('Drowsiness detection/alarm.wav')"
   ]
  },
  {
   "cell_type": "code",
   "execution_count": 3,
   "metadata": {},
   "outputs": [],
   "source": [
    "# To make the red rectangle around the screen grow larger in size as the computer detects you are sleepier  ,we define a thickness variable.\n",
    "thick = 2\n",
    "score = 0  # The timer until which the alarm will ring.\n",
    "lbl=['Close','Open']\n",
    "rpred=[99]\n",
    "lpred=[99]\n",
    "\n",
    "model = load_model('Drowsiness detection/models/cnnCat2.h5')\n",
    "\n",
    "leye_classifier = cv2.CascadeClassifier('Drowsiness detection/haar cascade files/haarcascade_lefteye_2splits.xml')\n",
    "reye_classifier = cv2.CascadeClassifier('Drowsiness detection/haar cascade files/haarcascade_righteye_2splits.xml')\n",
    "face_classifier = cv2.CascadeClassifier('Drowsiness detection/haar cascade files/haarcascade_frontalface_alt.xml')"
   ]
  },
  {
   "cell_type": "code",
   "execution_count": 8,
   "metadata": {},
   "outputs": [],
   "source": [
    "cap = cv2.VideoCapture(0)\n",
    "while True:\n",
    "    ret ,frame = cap.read()\n",
    "    height ,width = frame.shape[:2]\n",
    "    \n",
    "    gray = cv2.cvtColor(frame , cv2.COLOR_BGR2GRAY)\n",
    "    \n",
    "    faces = face_classifier.detectMultiScale(gray , minNeighbors = 5 , scaleFactor = 1.1 , minSize = (25,25))\n",
    "    left_eye = leye_classifier.detectMultiScale(gray)\n",
    "    right_eye = reye_classifier.detectMultiScale(gray)\n",
    "    \n",
    "#     cv2.rectangle(frame, (0,height-50) , (200,height) , (0,0,0) , thickness=cv2.FILLED )\n",
    "    \n",
    "    for x,y,w,h in faces:\n",
    "        cv2.rectangle(frame ,(x,y) ,(x+w,y+h) ,(0,0,0) , 1)\n",
    "        \n",
    "    for x,y,w,h in left_eye:\n",
    "        l_eye = frame[y:y+h ,x:x+w]\n",
    "        l_eye = cv2.cvtColor(l_eye , cv2.COLOR_BGR2GRAY)\n",
    "        l_eye = cv2.resize(l_eye ,(24,24))  # The model was trained in this size.\n",
    "        l_eye = l_eye/255\n",
    "        l_eye = np.reshape(l_eye ,(24,24,1))\n",
    "        l_eye = np.expand_dims(l_eye ,axis=0)\n",
    "        l_pred = model.predict_classes(l_eye)\n",
    "        \n",
    "        if (l_pred[0] == 1):\n",
    "            lbl = 'Open'\n",
    "        if (l_pred[0] == 0):\n",
    "            lbl = 'Closed'\n",
    "        break\n",
    "        \n",
    "        \n",
    "        \n",
    "    for (x,y,w,h) in right_eye:\n",
    "        r_eye=frame[y:y+h , x:x+w]\n",
    "        r_eye = cv2.cvtColor(r_eye,cv2.COLOR_BGR2GRAY)\n",
    "        r_eye = cv2.resize(r_eye,(24,24))\n",
    "        r_eye= r_eye/255\n",
    "        r_eye= r_eye.reshape(24,24,1)\n",
    "        r_eye = np.expand_dims(r_eye,axis=0)\n",
    "        r_pred = model.predict_classes(r_eye)\n",
    "        if(r_pred[0]==1):\n",
    "            lbl='Open'\n",
    "        if(r_pred[0]==0):\n",
    "            lbl='Closed'   \n",
    "        break\n",
    "        \n",
    "    if (l_pred ==0 and r_pred ==0):\n",
    "        score = score + 1 \n",
    "        cv2.putText(frame ,\"Closed\" ,(10,height-20) ,cv2.FONT_HERSHEY_SIMPLEX ,1 ,(0,0,255) ,1 ,cv2.LINE_AA)\n",
    "    else:\n",
    "        score = score -1\n",
    "        cv2.putText(frame ,\"Open\" ,(10,height-20) ,cv2.FONT_HERSHEY_SIMPLEX ,1 ,(0,0,255) ,1 ,cv2.LINE_AA)\n",
    "        sound.stop()\n",
    "        \n",
    "    if (score<0):\n",
    "        score = 0\n",
    "    cv2.putText(frame,'Score:'+str(score),(100,height-20), cv2.FONT_HERSHEY_SIMPLEX, 1,(255,255,255),1,cv2.LINE_AA)\n",
    "        \n",
    "    if (score>15):\n",
    "        sound.play()\n",
    "        \n",
    "        \n",
    "        if (thick<16):\n",
    "            thick = thick+2\n",
    "        else:\n",
    "            thick = thick-2\n",
    "            if (thick<2):\n",
    "                thick = 2\n",
    "            \n",
    "        cv2.rectangle(frame,(0,0),(width,height),(0,0,255),thick)  # A rectangle around the whole frame.\n",
    "        \n",
    "    cv2.imshow('Drowsiness_Detector' , frame)\n",
    "    \n",
    "    if cv2.waitKey(10)==27:\n",
    "        cap.release()\n",
    "        cv2.destroyAllWindows()\n",
    "        break\n"
   ]
  },
  {
   "cell_type": "code",
   "execution_count": 15,
   "metadata": {},
   "outputs": [
    {
     "data": {
      "text/plain": [
       "(1, 24, 24, 1)"
      ]
     },
     "execution_count": 15,
     "metadata": {},
     "output_type": "execute_result"
    }
   ],
   "source": [
    "np.expand_dims(np.ones((24,24)).reshape((24,24,1)) , axis=0).shape"
   ]
  },
  {
   "cell_type": "code",
   "execution_count": 27,
   "metadata": {},
   "outputs": [
    {
     "data": {
      "text/plain": [
       "(24, 24)"
      ]
     },
     "execution_count": 27,
     "metadata": {},
     "output_type": "execute_result"
    }
   ],
   "source": [
    "np.ones((24,24)).shape[:2]"
   ]
  }
 ],
 "metadata": {
  "kernelspec": {
   "display_name": "Python 3 (ipykernel)",
   "language": "python",
   "name": "python3"
  },
  "language_info": {
   "codemirror_mode": {
    "name": "ipython",
    "version": 3
   },
   "file_extension": ".py",
   "mimetype": "text/x-python",
   "name": "python",
   "nbconvert_exporter": "python",
   "pygments_lexer": "ipython3",
   "version": "3.9.7"
  }
 },
 "nbformat": 4,
 "nbformat_minor": 4
}
