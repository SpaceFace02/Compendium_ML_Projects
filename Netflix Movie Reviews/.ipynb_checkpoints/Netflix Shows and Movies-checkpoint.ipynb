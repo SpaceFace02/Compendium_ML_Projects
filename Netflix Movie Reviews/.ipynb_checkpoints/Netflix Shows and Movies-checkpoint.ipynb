{
 "cells": [
  {
   "cell_type": "code",
   "execution_count": 1,
   "metadata": {},
   "outputs": [],
   "source": [
    "import pandas as pd\n",
    "import numpy as np\n",
    "import warnings\n",
    "import seaborn as sns\n",
    "warnings.filterwarnings('ignore')"
   ]
  },
  {
   "cell_type": "code",
   "execution_count": 804,
   "metadata": {},
   "outputs": [],
   "source": [
    "df = pd.read_csv('netflix_titles.csv')"
   ]
  },
  {
   "cell_type": "code",
   "execution_count": 805,
   "metadata": {},
   "outputs": [
    {
     "data": {
      "text/html": [
       "<div>\n",
       "<style scoped>\n",
       "    .dataframe tbody tr th:only-of-type {\n",
       "        vertical-align: middle;\n",
       "    }\n",
       "\n",
       "    .dataframe tbody tr th {\n",
       "        vertical-align: top;\n",
       "    }\n",
       "\n",
       "    .dataframe thead th {\n",
       "        text-align: right;\n",
       "    }\n",
       "</style>\n",
       "<table border=\"1\" class=\"dataframe\">\n",
       "  <thead>\n",
       "    <tr style=\"text-align: right;\">\n",
       "      <th></th>\n",
       "      <th>show_id</th>\n",
       "      <th>type</th>\n",
       "      <th>title</th>\n",
       "      <th>director</th>\n",
       "      <th>cast</th>\n",
       "      <th>country</th>\n",
       "      <th>date_added</th>\n",
       "      <th>release_year</th>\n",
       "      <th>rating</th>\n",
       "      <th>duration</th>\n",
       "      <th>listed_in</th>\n",
       "      <th>description</th>\n",
       "    </tr>\n",
       "  </thead>\n",
       "  <tbody>\n",
       "    <tr>\n",
       "      <th>0</th>\n",
       "      <td>81145628</td>\n",
       "      <td>Movie</td>\n",
       "      <td>Norm of the North: King Sized Adventure</td>\n",
       "      <td>Richard Finn, Tim Maltby</td>\n",
       "      <td>Alan Marriott, Andrew Toth, Brian Dobson, Cole...</td>\n",
       "      <td>United States, India, South Korea, China</td>\n",
       "      <td>September 9, 2019</td>\n",
       "      <td>2019</td>\n",
       "      <td>TV-PG</td>\n",
       "      <td>90 min</td>\n",
       "      <td>Children &amp; Family Movies, Comedies</td>\n",
       "      <td>Before planning an awesome wedding for his gra...</td>\n",
       "    </tr>\n",
       "    <tr>\n",
       "      <th>1</th>\n",
       "      <td>80117401</td>\n",
       "      <td>Movie</td>\n",
       "      <td>Jandino: Whatever it Takes</td>\n",
       "      <td>NaN</td>\n",
       "      <td>Jandino Asporaat</td>\n",
       "      <td>United Kingdom</td>\n",
       "      <td>September 9, 2016</td>\n",
       "      <td>2016</td>\n",
       "      <td>TV-MA</td>\n",
       "      <td>94 min</td>\n",
       "      <td>Stand-Up Comedy</td>\n",
       "      <td>Jandino Asporaat riffs on the challenges of ra...</td>\n",
       "    </tr>\n",
       "    <tr>\n",
       "      <th>2</th>\n",
       "      <td>70234439</td>\n",
       "      <td>TV Show</td>\n",
       "      <td>Transformers Prime</td>\n",
       "      <td>NaN</td>\n",
       "      <td>Peter Cullen, Sumalee Montano, Frank Welker, J...</td>\n",
       "      <td>United States</td>\n",
       "      <td>September 8, 2018</td>\n",
       "      <td>2013</td>\n",
       "      <td>TV-Y7-FV</td>\n",
       "      <td>1 Season</td>\n",
       "      <td>Kids' TV</td>\n",
       "      <td>With the help of three human allies, the Autob...</td>\n",
       "    </tr>\n",
       "  </tbody>\n",
       "</table>\n",
       "</div>"
      ],
      "text/plain": [
       "    show_id     type                                    title  \\\n",
       "0  81145628    Movie  Norm of the North: King Sized Adventure   \n",
       "1  80117401    Movie               Jandino: Whatever it Takes   \n",
       "2  70234439  TV Show                       Transformers Prime   \n",
       "\n",
       "                   director  \\\n",
       "0  Richard Finn, Tim Maltby   \n",
       "1                       NaN   \n",
       "2                       NaN   \n",
       "\n",
       "                                                cast  \\\n",
       "0  Alan Marriott, Andrew Toth, Brian Dobson, Cole...   \n",
       "1                                   Jandino Asporaat   \n",
       "2  Peter Cullen, Sumalee Montano, Frank Welker, J...   \n",
       "\n",
       "                                    country         date_added  release_year  \\\n",
       "0  United States, India, South Korea, China  September 9, 2019          2019   \n",
       "1                            United Kingdom  September 9, 2016          2016   \n",
       "2                             United States  September 8, 2018          2013   \n",
       "\n",
       "     rating  duration                           listed_in  \\\n",
       "0     TV-PG    90 min  Children & Family Movies, Comedies   \n",
       "1     TV-MA    94 min                     Stand-Up Comedy   \n",
       "2  TV-Y7-FV  1 Season                            Kids' TV   \n",
       "\n",
       "                                         description  \n",
       "0  Before planning an awesome wedding for his gra...  \n",
       "1  Jandino Asporaat riffs on the challenges of ra...  \n",
       "2  With the help of three human allies, the Autob...  "
      ]
     },
     "execution_count": 805,
     "metadata": {},
     "output_type": "execute_result"
    }
   ],
   "source": [
    "df.head(3)"
   ]
  },
  {
   "cell_type": "code",
   "execution_count": 806,
   "metadata": {},
   "outputs": [],
   "source": [
    "df = df.drop(['show_id' , 'director' ,'rating'] , axis=1)"
   ]
  },
  {
   "cell_type": "code",
   "execution_count": 807,
   "metadata": {},
   "outputs": [
    {
     "data": {
      "text/plain": [
       "type              0\n",
       "title             0\n",
       "cast            570\n",
       "country         476\n",
       "date_added       11\n",
       "release_year      0\n",
       "duration          0\n",
       "listed_in         0\n",
       "description       0\n",
       "dtype: int64"
      ]
     },
     "execution_count": 807,
     "metadata": {},
     "output_type": "execute_result"
    }
   ],
   "source": [
    "df.isnull().sum()"
   ]
  },
  {
   "cell_type": "code",
   "execution_count": 808,
   "metadata": {},
   "outputs": [
    {
     "data": {
      "text/plain": [
       "6234"
      ]
     },
     "execution_count": 808,
     "metadata": {},
     "output_type": "execute_result"
    }
   ],
   "source": [
    "len(df)"
   ]
  },
  {
   "cell_type": "code",
   "execution_count": 809,
   "metadata": {},
   "outputs": [],
   "source": [
    "df =df.dropna(subset = ['cast' ,'country' , 'date_added'])"
   ]
  },
  {
   "cell_type": "code",
   "execution_count": 810,
   "metadata": {},
   "outputs": [
    {
     "data": {
      "text/plain": [
       "str"
      ]
     },
     "execution_count": 810,
     "metadata": {},
     "output_type": "execute_result"
    }
   ],
   "source": [
    "type(df['country'].mode()[0])"
   ]
  },
  {
   "cell_type": "code",
   "execution_count": 811,
   "metadata": {},
   "outputs": [],
   "source": [
    "df['country'].fillna(df['country'].mode()[0] , inplace=True)"
   ]
  },
  {
   "cell_type": "code",
   "execution_count": 812,
   "metadata": {},
   "outputs": [],
   "source": [
    "df['date_added'] = df['date_added'].ffill()  # forward fill. I forward fill the holes in date_added, which are the last records in the dataset."
   ]
  },
  {
   "cell_type": "code",
   "execution_count": null,
   "metadata": {},
   "outputs": [],
   "source": [
    "# Checking for null values\n",
    "df.isnull().sum()"
   ]
  },
  {
   "cell_type": "code",
   "execution_count": 814,
   "metadata": {},
   "outputs": [],
   "source": [
    "df = df.reset_index()"
   ]
  },
  {
   "cell_type": "code",
   "execution_count": 815,
   "metadata": {},
   "outputs": [],
   "source": [
    "df = df.drop('index' ,axis=1)"
   ]
  },
  {
   "cell_type": "code",
   "execution_count": 816,
   "metadata": {},
   "outputs": [
    {
     "data": {
      "text/html": [
       "<div>\n",
       "<style scoped>\n",
       "    .dataframe tbody tr th:only-of-type {\n",
       "        vertical-align: middle;\n",
       "    }\n",
       "\n",
       "    .dataframe tbody tr th {\n",
       "        vertical-align: top;\n",
       "    }\n",
       "\n",
       "    .dataframe thead th {\n",
       "        text-align: right;\n",
       "    }\n",
       "</style>\n",
       "<table border=\"1\" class=\"dataframe\">\n",
       "  <thead>\n",
       "    <tr style=\"text-align: right;\">\n",
       "      <th></th>\n",
       "      <th>type</th>\n",
       "      <th>title</th>\n",
       "      <th>cast</th>\n",
       "      <th>country</th>\n",
       "      <th>date_added</th>\n",
       "      <th>release_year</th>\n",
       "      <th>duration</th>\n",
       "      <th>listed_in</th>\n",
       "      <th>description</th>\n",
       "    </tr>\n",
       "  </thead>\n",
       "  <tbody>\n",
       "    <tr>\n",
       "      <th>1768</th>\n",
       "      <td>Movie</td>\n",
       "      <td>Sarkar</td>\n",
       "      <td>Vijay, Varalakshmi Sarathkumar, Keerthi Suresh...</td>\n",
       "      <td>India</td>\n",
       "      <td>March 2, 2019</td>\n",
       "      <td>2018</td>\n",
       "      <td>162 min</td>\n",
       "      <td>Action &amp; Adventure, Dramas, International Movies</td>\n",
       "      <td>A ruthless businessman’s mission to expose ele...</td>\n",
       "    </tr>\n",
       "  </tbody>\n",
       "</table>\n",
       "</div>"
      ],
      "text/plain": [
       "       type   title                                               cast  \\\n",
       "1768  Movie  Sarkar  Vijay, Varalakshmi Sarathkumar, Keerthi Suresh...   \n",
       "\n",
       "     country     date_added  release_year duration  \\\n",
       "1768   India  March 2, 2019          2018  162 min   \n",
       "\n",
       "                                             listed_in  \\\n",
       "1768  Action & Adventure, Dramas, International Movies   \n",
       "\n",
       "                                            description  \n",
       "1768  A ruthless businessman’s mission to expose ele...  "
      ]
     },
     "execution_count": 816,
     "metadata": {},
     "output_type": "execute_result"
    }
   ],
   "source": [
    "# Checking for duplicate values\n",
    "df[df.duplicated()]"
   ]
  },
  {
   "cell_type": "code",
   "execution_count": 817,
   "metadata": {},
   "outputs": [],
   "source": [
    "df.drop_duplicates(inplace=True)"
   ]
  },
  {
   "cell_type": "code",
   "execution_count": 818,
   "metadata": {},
   "outputs": [],
   "source": [
    "df['date_added'] = pd.to_datetime(df['date_added'])"
   ]
  },
  {
   "cell_type": "code",
   "execution_count": 819,
   "metadata": {},
   "outputs": [],
   "source": [
    "df['type'] = pd.Categorical(df['type'])"
   ]
  },
  {
   "cell_type": "code",
   "execution_count": 820,
   "metadata": {},
   "outputs": [
    {
     "data": {
      "text/plain": [
       "Timestamp('2019-09-09 00:00:00')"
      ]
     },
     "execution_count": 820,
     "metadata": {},
     "output_type": "execute_result"
    }
   ],
   "source": [
    "df['date_added'][0]"
   ]
  },
  {
   "cell_type": "code",
   "execution_count": 821,
   "metadata": {},
   "outputs": [
    {
     "data": {
      "text/plain": [
       "2319"
      ]
     },
     "execution_count": 821,
     "metadata": {},
     "output_type": "execute_result"
    }
   ],
   "source": [
    "len(df[df['country'].str.contains('United States')])"
   ]
  },
  {
   "cell_type": "code",
   "execution_count": 822,
   "metadata": {},
   "outputs": [],
   "source": [
    "# Applying some filters on the data\n",
    "df['american'] = df.apply(lambda row: 'United States' in row['country'], axis=1).replace({True: 'Yes', False: 'No'})"
   ]
  },
  {
   "cell_type": "code",
   "execution_count": 824,
   "metadata": {},
   "outputs": [],
   "source": [
    "import matplotlib.pyplot as plt\n",
    "df['month_added'] = pd.DatetimeIndex(df['date_added']).month\n",
    "df['year_added'] = pd.DatetimeIndex(df['date_added']).year"
   ]
  },
  {
   "cell_type": "code",
   "execution_count": 825,
   "metadata": {},
   "outputs": [
    {
     "data": {
      "text/plain": [
       "<matplotlib.axes._subplots.AxesSubplot at 0x206a4727d60>"
      ]
     },
     "execution_count": 825,
     "metadata": {},
     "output_type": "execute_result"
    },
    {
     "data": {
      "image/png": "[encoded data removed]",
      "text/plain": [
       "<Figure size 720x432 with 1 Axes>"
      ]
     },
     "metadata": {},
     "output_type": "display_data"
    }
   ],
   "source": [
    "plt.style.use('seaborn')\n",
    "plt.figure(figsize=(10,6))\n",
    "sns.countplot(x='year_added' ,hue='type' , data=df)"
   ]
  },
  {
   "cell_type": "code",
   "execution_count": 826,
   "metadata": {},
   "outputs": [
    {
     "data": {
      "text/plain": [
       "'Action & Adventure, Dramas, International Movies'"
      ]
     },
     "execution_count": 826,
     "metadata": {},
     "output_type": "execute_result"
    }
   ],
   "source": [
    "df['listed_in'][9]"
   ]
  },
  {
   "cell_type": "code",
   "execution_count": 827,
   "metadata": {},
   "outputs": [],
   "source": [
    "df['listed_in'] = df['listed_in'].apply(lambda x: x.split(','))"
   ]
  },
  {
   "cell_type": "code",
   "execution_count": 828,
   "metadata": {},
   "outputs": [
    {
     "data": {
      "text/plain": [
       "['Crime TV Shows', ' International TV Shows', ' Spanish-Language TV Shows']"
      ]
     },
     "execution_count": 828,
     "metadata": {},
     "output_type": "execute_result"
    }
   ],
   "source": [
    "df['listed_in'][5]"
   ]
  },
  {
   "cell_type": "code",
   "execution_count": 829,
   "metadata": {},
   "outputs": [
    {
     "data": {
      "text/plain": [
       "['Children & Family Movies Comedies']"
      ]
     },
     "execution_count": 829,
     "metadata": {},
     "output_type": "execute_result"
    }
   ],
   "source": [
    "'Children & Family Movies Comedies'.split(',')"
   ]
  },
  {
   "cell_type": "code",
   "execution_count": 830,
   "metadata": {},
   "outputs": [
    {
     "data": {
      "text/plain": [
       "[Stand-Up Comedy]                                          248\n",
       "[Dramas,  International Movies]                            238\n",
       "[Dramas,  Independent Movies,  International Movies]       185\n",
       "[Comedies,  Dramas,  International Movies]                 170\n",
       "[Documentaries]                                            143\n",
       "                                                          ... \n",
       "[Classic Movies,  Horror Movies,  Thrillers]                 1\n",
       "[Crime TV Shows,  TV Comedies]                               1\n",
       "[Sci-Fi & Fantasy]                                           1\n",
       "[Anime Series,  Romantic TV Shows]                           1\n",
       "[Romantic TV Shows,  TV Action & Adventure,  TV Dramas]      1\n",
       "Name: listed_in, Length: 442, dtype: int64"
      ]
     },
     "execution_count": 830,
     "metadata": {},
     "output_type": "execute_result"
    }
   ],
   "source": [
    "df['listed_in'].value_counts()"
   ]
  },
  {
   "cell_type": "code",
   "execution_count": 831,
   "metadata": {},
   "outputs": [],
   "source": [
    "df = df.drop(['cast' ,'country' , 'release_year' , 'duration' , 'american' , 'month_added' , 'year_added' ,'type' , 'date_added'] , axis=1)"
   ]
  },
  {
   "cell_type": "code",
   "execution_count": 714,
   "metadata": {},
   "outputs": [],
   "source": [
    "from nltk.corpus import stopwords\n",
    "from string import punctuation\n",
    "\n",
    "list_stopwords = set(stopwords.words('english') + list(punctuation))  # both punctuation and stopwords."
   ]
  },
  {
   "cell_type": "code",
   "execution_count": 836,
   "metadata": {},
   "outputs": [],
   "source": [
    "df['description'] = df['description'].apply(lambda x: [word for word in x.split() if word not in list_stopwords])\n",
    "# df['listed_in'] = df['listed_in'].apply(lambda x: [word for word in x.split() if word not in list_stopwords])\n",
    "df['title_original'] = df['title']\n",
    "df['title'] = df['title'].apply(lambda x: [word for word in x.split() if word not in list_stopwords])"
   ]
  },
  {
   "cell_type": "code",
   "execution_count": 716,
   "metadata": {},
   "outputs": [],
   "source": [
    "#  https://stackoverflow.com/questions/37793118/load-pretrained-glove-vectors-in-python/45894001"
   ]
  },
  {
   "cell_type": "code",
   "execution_count": 717,
   "metadata": {},
   "outputs": [
    {
     "data": {
      "text/plain": [
       "(400000, 100)"
      ]
     },
     "execution_count": 717,
     "metadata": {},
     "output_type": "execute_result"
    }
   ],
   "source": [
    "from gensim.scripts.glove2word2vec import glove2word2vec\n",
    "glove2word2vec(glove_input_file=\"glove.6B.100d.txt\", word2vec_output_file=\"gensim_glove_vectors.txt\")"
   ]
  },
  {
   "cell_type": "code",
   "execution_count": null,
   "metadata": {},
   "outputs": [],
   "source": [
    "# Loading a embedding model ,either word 2 vec or even gloVe (by stanford) will do\n",
    "\n",
    "from gensim.models.keyedvectors import KeyedVectors\n",
    "wv = KeyedVectors.load_word2vec_format(\"gensim_glove_vectors.txt\", binary=False)"
   ]
  },
  {
   "cell_type": "code",
   "execution_count": 367,
   "metadata": {},
   "outputs": [],
   "source": [
    "import pickle\n",
    "with open('wv.pkl' , mode='wb') as f:\n",
    "    pickle.dump(wv ,f)"
   ]
  },
  {
   "cell_type": "code",
   "execution_count": 87,
   "metadata": {},
   "outputs": [],
   "source": [
    "# To save the model\n",
    "import pickle\n",
    "wv = pickle.load( open( \"wv.pkl\", \"rb\" ) )"
   ]
  },
  {
   "cell_type": "code",
   "execution_count": 88,
   "metadata": {},
   "outputs": [],
   "source": [
    "with open('df.pkl' , mode='wb') as f:\n",
    "    pickle.dump(df ,f)"
   ]
  },
  {
   "cell_type": "code",
   "execution_count": 498,
   "metadata": {},
   "outputs": [],
   "source": [
    "df_original = pickle.load( open( \"df.pkl\", \"rb\" ) )"
   ]
  },
  {
   "cell_type": "code",
   "execution_count": 849,
   "metadata": {},
   "outputs": [],
   "source": [
    "df = df.reset_index()\n",
    "df = df.drop('index' , axis =1)"
   ]
  },
  {
   "cell_type": "code",
   "execution_count": 847,
   "metadata": {},
   "outputs": [],
   "source": [
    "df_original = df_original.reset_index()\n",
    "df_original = df_original.drop('index' , axis =1)"
   ]
  },
  {
   "cell_type": "code",
   "execution_count": 851,
   "metadata": {},
   "outputs": [
    {
     "data": {
      "text/html": [
       "<div>\n",
       "<style scoped>\n",
       "    .dataframe tbody tr th:only-of-type {\n",
       "        vertical-align: middle;\n",
       "    }\n",
       "\n",
       "    .dataframe tbody tr th {\n",
       "        vertical-align: top;\n",
       "    }\n",
       "\n",
       "    .dataframe thead th {\n",
       "        text-align: right;\n",
       "    }\n",
       "</style>\n",
       "<table border=\"1\" class=\"dataframe\">\n",
       "  <thead>\n",
       "    <tr style=\"text-align: right;\">\n",
       "      <th></th>\n",
       "      <th>title</th>\n",
       "      <th>listed_in</th>\n",
       "      <th>description</th>\n",
       "      <th>title_original</th>\n",
       "    </tr>\n",
       "  </thead>\n",
       "  <tbody>\n",
       "    <tr>\n",
       "      <th>0</th>\n",
       "      <td>[Norm, North:, King, Sized, Adventure]</td>\n",
       "      <td>[Children &amp; Family Movies,  Comedies, Children...</td>\n",
       "      <td>[Before, planning, awesome, wedding, grandfath...</td>\n",
       "      <td>Norm of the North: King Sized Adventure</td>\n",
       "    </tr>\n",
       "    <tr>\n",
       "      <th>1</th>\n",
       "      <td>[Jandino:, Whatever, Takes]</td>\n",
       "      <td>[Stand-Up Comedy, Stand-Up, Comedy]</td>\n",
       "      <td>[Jandino, Asporaat, riffs, challenges, raising...</td>\n",
       "      <td>Jandino: Whatever it Takes</td>\n",
       "    </tr>\n",
       "    <tr>\n",
       "      <th>2</th>\n",
       "      <td>[Transformers, Prime]</td>\n",
       "      <td>[Kids' TV, Kids', TV]</td>\n",
       "      <td>[With, help, three, human, allies,, Autobots, ...</td>\n",
       "      <td>Transformers Prime</td>\n",
       "    </tr>\n",
       "    <tr>\n",
       "      <th>3</th>\n",
       "      <td>[Transformers:, Robots, Disguise]</td>\n",
       "      <td>[Kids' TV, Kids', TV]</td>\n",
       "      <td>[When, prison, ship, crash, unleashes, hundred...</td>\n",
       "      <td>Transformers: Robots in Disguise</td>\n",
       "    </tr>\n",
       "    <tr>\n",
       "      <th>4</th>\n",
       "      <td>[#realityhigh]</td>\n",
       "      <td>[Comedies, Comedies]</td>\n",
       "      <td>[When, nerdy, high, schooler, Dani, finally, a...</td>\n",
       "      <td>#realityhigh</td>\n",
       "    </tr>\n",
       "    <tr>\n",
       "      <th>...</th>\n",
       "      <td>...</td>\n",
       "      <td>...</td>\n",
       "      <td>...</td>\n",
       "      <td>...</td>\n",
       "    </tr>\n",
       "    <tr>\n",
       "      <th>5256</th>\n",
       "      <td>[Talking, Tom, Friends]</td>\n",
       "      <td>[Kids' TV,  TV Comedies]</td>\n",
       "      <td>[Full, funny, one-liners, always, ready, adven...</td>\n",
       "      <td>Talking Tom and Friends</td>\n",
       "    </tr>\n",
       "    <tr>\n",
       "      <th>5257</th>\n",
       "      <td>[Pokémon, Series]</td>\n",
       "      <td>[Anime Series,  Kids' TV]</td>\n",
       "      <td>[Ash, Pikachu, travel, Alola, region, mother, ...</td>\n",
       "      <td>Pokémon the Series</td>\n",
       "    </tr>\n",
       "    <tr>\n",
       "      <th>5258</th>\n",
       "      <td>[Justin, Time]</td>\n",
       "      <td>[Kids' TV]</td>\n",
       "      <td>[In, Justin's, dreams,, imaginary, friends, Ol...</td>\n",
       "      <td>Justin Time</td>\n",
       "    </tr>\n",
       "    <tr>\n",
       "      <th>5259</th>\n",
       "      <td>[Terrace, House:, Boys, Girls, City]</td>\n",
       "      <td>[International TV Shows,  Reality TV]</td>\n",
       "      <td>[A, new, set, six, men, women, start, lives, t...</td>\n",
       "      <td>Terrace House: Boys &amp; Girls in the City</td>\n",
       "    </tr>\n",
       "    <tr>\n",
       "      <th>5260</th>\n",
       "      <td>[Weeds]</td>\n",
       "      <td>[TV Comedies,  TV Dramas]</td>\n",
       "      <td>[A, suburban, mother, starts, selling, marijua...</td>\n",
       "      <td>Weeds</td>\n",
       "    </tr>\n",
       "  </tbody>\n",
       "</table>\n",
       "<p>5261 rows × 4 columns</p>\n",
       "</div>"
      ],
      "text/plain": [
       "                                       title  \\\n",
       "0     [Norm, North:, King, Sized, Adventure]   \n",
       "1                [Jandino:, Whatever, Takes]   \n",
       "2                      [Transformers, Prime]   \n",
       "3          [Transformers:, Robots, Disguise]   \n",
       "4                             [#realityhigh]   \n",
       "...                                      ...   \n",
       "5256                 [Talking, Tom, Friends]   \n",
       "5257                       [Pokémon, Series]   \n",
       "5258                          [Justin, Time]   \n",
       "5259    [Terrace, House:, Boys, Girls, City]   \n",
       "5260                                 [Weeds]   \n",
       "\n",
       "                                              listed_in  \\\n",
       "0     [Children & Family Movies,  Comedies, Children...   \n",
       "1                   [Stand-Up Comedy, Stand-Up, Comedy]   \n",
       "2                                 [Kids' TV, Kids', TV]   \n",
       "3                                 [Kids' TV, Kids', TV]   \n",
       "4                                  [Comedies, Comedies]   \n",
       "...                                                 ...   \n",
       "5256                           [Kids' TV,  TV Comedies]   \n",
       "5257                          [Anime Series,  Kids' TV]   \n",
       "5258                                         [Kids' TV]   \n",
       "5259              [International TV Shows,  Reality TV]   \n",
       "5260                          [TV Comedies,  TV Dramas]   \n",
       "\n",
       "                                            description  \\\n",
       "0     [Before, planning, awesome, wedding, grandfath...   \n",
       "1     [Jandino, Asporaat, riffs, challenges, raising...   \n",
       "2     [With, help, three, human, allies,, Autobots, ...   \n",
       "3     [When, prison, ship, crash, unleashes, hundred...   \n",
       "4     [When, nerdy, high, schooler, Dani, finally, a...   \n",
       "...                                                 ...   \n",
       "5256  [Full, funny, one-liners, always, ready, adven...   \n",
       "5257  [Ash, Pikachu, travel, Alola, region, mother, ...   \n",
       "5258  [In, Justin's, dreams,, imaginary, friends, Ol...   \n",
       "5259  [A, new, set, six, men, women, start, lives, t...   \n",
       "5260  [A, suburban, mother, starts, selling, marijua...   \n",
       "\n",
       "                               title_original  \n",
       "0     Norm of the North: King Sized Adventure  \n",
       "1                  Jandino: Whatever it Takes  \n",
       "2                          Transformers Prime  \n",
       "3            Transformers: Robots in Disguise  \n",
       "4                                #realityhigh  \n",
       "...                                       ...  \n",
       "5256                  Talking Tom and Friends  \n",
       "5257                       Pokémon the Series  \n",
       "5258                              Justin Time  \n",
       "5259  Terrace House: Boys & Girls in the City  \n",
       "5260                                    Weeds  \n",
       "\n",
       "[5261 rows x 4 columns]"
      ]
     },
     "execution_count": 851,
     "metadata": {},
     "output_type": "execute_result"
    }
   ],
   "source": [
    "df"
   ]
  },
  {
   "cell_type": "code",
   "execution_count": 852,
   "metadata": {},
   "outputs": [],
   "source": [
    "for i in range(len(df_original['listed_in'])):\n",
    "    for j in range(len(df_original['listed_in'][i])):\n",
    "        df_original['listed_in'][i].extend(df_original['listed_in'][i][j].split()) "
   ]
  },
  {
   "cell_type": "code",
   "execution_count": 307,
   "metadata": {},
   "outputs": [],
   "source": [
    "df['listed_in'][0].extend(df['listed_in'][0][1].split())"
   ]
  },
  {
   "cell_type": "code",
   "execution_count": 853,
   "metadata": {},
   "outputs": [
    {
     "data": {
      "text/plain": [
       "array([list(['Jandino:', 'Whatever', 'Takes']),\n",
       "       list(['Stand-Up Comedy', 'Stand-Up', 'Comedy', 'Stand-Up', 'Comedy', 'Stand-Up', 'Comedy']),\n",
       "       list(['Jandino', 'Asporaat', 'riffs', 'challenges', 'raising', 'kids', 'serenades', 'audience', 'rousing', 'rendition', '\"Sex', 'Fire\"', 'comedy', 'show.']),\n",
       "       'Jandino: Whatever it Takes'], dtype=object)"
      ]
     },
     "execution_count": 853,
     "metadata": {},
     "output_type": "execute_result"
    }
   ],
   "source": [
    "df_original.to_numpy()[1]"
   ]
  },
  {
   "cell_type": "code",
   "execution_count": 854,
   "metadata": {},
   "outputs": [],
   "source": [
    "# df['listed_in'][0]\n",
    "len(wv.vocab)\n",
    "matrix_netflix_vocab = []\n",
    "for list_ in df_original.to_numpy():\n",
    "    list_[0] = [word.lower() for word in list_[0] if word.lower() in wv.vocab]\n",
    "    list_[1] = [word.lower() for word in list_[1] if word.lower() in wv.vocab]\n",
    "    list_[2] = [word.lower() for word in list_[2] if word.lower() in wv.vocab]\n",
    "    \n",
    "    matrix_netflix_vocab.append(list_)\n",
    "df_netflix_vocab = pd.DataFrame(matrix_netflix_vocab, columns=df_original.columns)"
   ]
  },
  {
   "cell_type": "code",
   "execution_count": 855,
   "metadata": {},
   "outputs": [
    {
     "data": {
      "text/plain": [
       "array([list(['whatever', 'takes']),\n",
       "       list(['stand-up', 'comedy', 'stand-up', 'comedy', 'stand-up', 'comedy']),\n",
       "       list(['riffs', 'challenges', 'raising', 'kids', 'serenades', 'audience', 'rousing', 'rendition', 'comedy']),\n",
       "       'Jandino: Whatever it Takes'], dtype=object)"
      ]
     },
     "execution_count": 855,
     "metadata": {},
     "output_type": "execute_result"
    }
   ],
   "source": [
    "matrix_netflix_vocab[1]"
   ]
  },
  {
   "cell_type": "code",
   "execution_count": 857,
   "metadata": {},
   "outputs": [
    {
     "data": {
      "text/html": [
       "<div>\n",
       "<style scoped>\n",
       "    .dataframe tbody tr th:only-of-type {\n",
       "        vertical-align: middle;\n",
       "    }\n",
       "\n",
       "    .dataframe tbody tr th {\n",
       "        vertical-align: top;\n",
       "    }\n",
       "\n",
       "    .dataframe thead th {\n",
       "        text-align: right;\n",
       "    }\n",
       "</style>\n",
       "<table border=\"1\" class=\"dataframe\">\n",
       "  <thead>\n",
       "    <tr style=\"text-align: right;\">\n",
       "      <th></th>\n",
       "      <th>title</th>\n",
       "      <th>listed_in</th>\n",
       "      <th>description</th>\n",
       "      <th>title_original</th>\n",
       "    </tr>\n",
       "  </thead>\n",
       "  <tbody>\n",
       "    <tr>\n",
       "      <th>0</th>\n",
       "      <td>[norm, king, sized, adventure]</td>\n",
       "      <td>[children, &amp;, family, movies, comedies, childr...</td>\n",
       "      <td>[before, planning, awesome, wedding, polar, be...</td>\n",
       "      <td>Norm of the North: King Sized Adventure</td>\n",
       "    </tr>\n",
       "    <tr>\n",
       "      <th>1</th>\n",
       "      <td>[whatever, takes]</td>\n",
       "      <td>[stand-up, comedy, stand-up, comedy, stand-up,...</td>\n",
       "      <td>[riffs, challenges, raising, kids, serenades, ...</td>\n",
       "      <td>Jandino: Whatever it Takes</td>\n",
       "    </tr>\n",
       "    <tr>\n",
       "      <th>2</th>\n",
       "      <td>[transformers, prime]</td>\n",
       "      <td>[tv, tv, tv]</td>\n",
       "      <td>[with, help, three, human, autobots, protect, ...</td>\n",
       "      <td>Transformers Prime</td>\n",
       "    </tr>\n",
       "    <tr>\n",
       "      <th>3</th>\n",
       "      <td>[robots, disguise]</td>\n",
       "      <td>[tv, tv, tv]</td>\n",
       "      <td>[when, prison, ship, crash, unleashes, hundred...</td>\n",
       "      <td>Transformers: Robots in Disguise</td>\n",
       "    </tr>\n",
       "    <tr>\n",
       "      <th>4</th>\n",
       "      <td>[]</td>\n",
       "      <td>[comedies, comedies, comedies, comedies]</td>\n",
       "      <td>[when, nerdy, high, schooler, dani, finally, a...</td>\n",
       "      <td>#realityhigh</td>\n",
       "    </tr>\n",
       "    <tr>\n",
       "      <th>...</th>\n",
       "      <td>...</td>\n",
       "      <td>...</td>\n",
       "      <td>...</td>\n",
       "      <td>...</td>\n",
       "    </tr>\n",
       "    <tr>\n",
       "      <th>5256</th>\n",
       "      <td>[talking, tom, friends]</td>\n",
       "      <td>[tv, tv, comedies]</td>\n",
       "      <td>[full, funny, one-liners, always, ready, talki...</td>\n",
       "      <td>Talking Tom and Friends</td>\n",
       "    </tr>\n",
       "    <tr>\n",
       "      <th>5257</th>\n",
       "      <td>[pokémon, series]</td>\n",
       "      <td>[anime, series, tv]</td>\n",
       "      <td>[ash, pikachu, travel, region, mother, enroll,...</td>\n",
       "      <td>Pokémon the Series</td>\n",
       "    </tr>\n",
       "    <tr>\n",
       "      <th>5258</th>\n",
       "      <td>[justin, time]</td>\n",
       "      <td>[tv]</td>\n",
       "      <td>[in, imaginary, friends, olive, squidgy, trave...</td>\n",
       "      <td>Justin Time</td>\n",
       "    </tr>\n",
       "    <tr>\n",
       "      <th>5259</th>\n",
       "      <td>[terrace, boys, girls, city]</td>\n",
       "      <td>[international, tv, shows, reality, tv]</td>\n",
       "      <td>[a, new, set, six, men, women, start, lives, t...</td>\n",
       "      <td>Terrace House: Boys &amp; Girls in the City</td>\n",
       "    </tr>\n",
       "    <tr>\n",
       "      <th>5260</th>\n",
       "      <td>[weeds]</td>\n",
       "      <td>[tv, comedies, tv, dramas]</td>\n",
       "      <td>[a, suburban, mother, starts, selling, marijua...</td>\n",
       "      <td>Weeds</td>\n",
       "    </tr>\n",
       "  </tbody>\n",
       "</table>\n",
       "<p>5261 rows × 4 columns</p>\n",
       "</div>"
      ],
      "text/plain": [
       "                               title  \\\n",
       "0     [norm, king, sized, adventure]   \n",
       "1                  [whatever, takes]   \n",
       "2              [transformers, prime]   \n",
       "3                 [robots, disguise]   \n",
       "4                                 []   \n",
       "...                              ...   \n",
       "5256         [talking, tom, friends]   \n",
       "5257               [pokémon, series]   \n",
       "5258                  [justin, time]   \n",
       "5259    [terrace, boys, girls, city]   \n",
       "5260                         [weeds]   \n",
       "\n",
       "                                              listed_in  \\\n",
       "0     [children, &, family, movies, comedies, childr...   \n",
       "1     [stand-up, comedy, stand-up, comedy, stand-up,...   \n",
       "2                                          [tv, tv, tv]   \n",
       "3                                          [tv, tv, tv]   \n",
       "4              [comedies, comedies, comedies, comedies]   \n",
       "...                                                 ...   \n",
       "5256                                 [tv, tv, comedies]   \n",
       "5257                                [anime, series, tv]   \n",
       "5258                                               [tv]   \n",
       "5259            [international, tv, shows, reality, tv]   \n",
       "5260                         [tv, comedies, tv, dramas]   \n",
       "\n",
       "                                            description  \\\n",
       "0     [before, planning, awesome, wedding, polar, be...   \n",
       "1     [riffs, challenges, raising, kids, serenades, ...   \n",
       "2     [with, help, three, human, autobots, protect, ...   \n",
       "3     [when, prison, ship, crash, unleashes, hundred...   \n",
       "4     [when, nerdy, high, schooler, dani, finally, a...   \n",
       "...                                                 ...   \n",
       "5256  [full, funny, one-liners, always, ready, talki...   \n",
       "5257  [ash, pikachu, travel, region, mother, enroll,...   \n",
       "5258  [in, imaginary, friends, olive, squidgy, trave...   \n",
       "5259  [a, new, set, six, men, women, start, lives, t...   \n",
       "5260  [a, suburban, mother, starts, selling, marijua...   \n",
       "\n",
       "                               title_original  \n",
       "0     Norm of the North: King Sized Adventure  \n",
       "1                  Jandino: Whatever it Takes  \n",
       "2                          Transformers Prime  \n",
       "3            Transformers: Robots in Disguise  \n",
       "4                                #realityhigh  \n",
       "...                                       ...  \n",
       "5256                  Talking Tom and Friends  \n",
       "5257                       Pokémon the Series  \n",
       "5258                              Justin Time  \n",
       "5259  Terrace House: Boys & Girls in the City  \n",
       "5260                                    Weeds  \n",
       "\n",
       "[5261 rows x 4 columns]"
      ]
     },
     "execution_count": 857,
     "metadata": {},
     "output_type": "execute_result"
    }
   ],
   "source": [
    "df_original"
   ]
  },
  {
   "cell_type": "code",
   "execution_count": 799,
   "metadata": {},
   "outputs": [],
   "source": [
    "# df_original['title_original'] = df['title']"
   ]
  },
  {
   "cell_type": "code",
   "execution_count": 858,
   "metadata": {},
   "outputs": [
    {
     "data": {
      "text/plain": [
       "'Jandino: Whatever it Takes'"
      ]
     },
     "execution_count": 858,
     "metadata": {},
     "output_type": "execute_result"
    }
   ],
   "source": [
    "df_original.to_numpy()[1][3]"
   ]
  },
  {
   "cell_type": "code",
   "execution_count": 859,
   "metadata": {},
   "outputs": [],
   "source": [
    "# from tqdm import tqdm  # Progress bar for iterables.\n",
    "\n",
    "# Here I am calculating the spatial cosine vectors for each embedding to find out the relation between movies and the genres.\n",
    "\n",
    "def recommendation(title):\n",
    "    matrix_netflix_title_vocab = []\n",
    "    for list_ in df_original[df_original['title_original'] == title].to_numpy():\n",
    "        list_[0] = [word.lower() for word in list_[0] if word.lower() in wv.vocab]\n",
    "        list_[1] = [word.lower() for word in list_[1] if word.lower() in wv.vocab]\n",
    "        list_[2] = [word.lower() for word in list_[2] if word.lower() in wv.vocab]\n",
    "        matrix_netflix_title_vocab.append(list_)\n",
    "        \n",
    "    matrix_similarity = []\n",
    "    \n",
    "    \n",
    "    for list1 in matrix_netflix_vocab:\n",
    "        for list2 in matrix_netflix_title_vocab:  # Compare each list of original matrix list with the title list to compute every similarity.\n",
    "            try:\n",
    "                score_catg = wv.n_similarity([x.lower() if len(list1[1]) !=0 else 0 for x in list1[1]] ,[x.lower()  if len(list2[1]) !=0 else 0 for x in list2[1]])\n",
    "            except:\n",
    "                score_catg = 0\n",
    "            score_desc = wv.n_similarity([x.lower() if len(list1[2]) !=0 else 0 for x in list1[2]] ,[x.lower()  if len(list2[2]) !=0 else 0 for x in list2[2]])\n",
    "            try:\n",
    "                score_title = wv.n_similarity([x.lower()  if len(list1[0]) !=0 else 0 for x in list1[0]] ,[x.lower()  if len(list2[0]) !=0 else 0 for x in list2[0]]) / 2  # Some titles are damn unique.\n",
    "            except:\n",
    "                score_title = 0\n",
    "                \n",
    "            if ((list1[1] != list2[1]) &(score_catg >0.85)):  # Categories like robots and all can be very much same in both.\n",
    "                 matrix_similarity.append([list1[3], list2[3], score_title, score_catg, score_desc])\n",
    "                    \n",
    "     \n",
    "     #     Creating a dataframe with the required-similarity\n",
    "    df_netflix_similarity = pd.DataFrame(matrix_similarity, \n",
    "                                         columns = ['recommendation','title','score_title', 'score_category', 'score_description'])\n",
    "    df_netflix_similarity['final_score'] = df_netflix_similarity['score_title'] + df_netflix_similarity['score_category'] + df_netflix_similarity['score_description']\n",
    "    df_netflix_similarity = df_netflix_similarity.drop('title' ,axis=1)\n",
    "    return (df_netflix_similarity.sort_values(by='final_score', ascending=False).head(10))\n",
    "    \n",
    "    "
   ]
  },
  {
   "cell_type": "code",
   "execution_count": 901,
   "metadata": {},
   "outputs": [
    {
     "data": {
      "text/html": [
       "<div>\n",
       "<style scoped>\n",
       "    .dataframe tbody tr th:only-of-type {\n",
       "        vertical-align: middle;\n",
       "    }\n",
       "\n",
       "    .dataframe tbody tr th {\n",
       "        vertical-align: top;\n",
       "    }\n",
       "\n",
       "    .dataframe thead th {\n",
       "        text-align: right;\n",
       "    }\n",
       "</style>\n",
       "<table border=\"1\" class=\"dataframe\">\n",
       "  <thead>\n",
       "    <tr style=\"text-align: right;\">\n",
       "      <th></th>\n",
       "      <th>recommendation</th>\n",
       "      <th>score_title</th>\n",
       "      <th>score_category</th>\n",
       "      <th>score_description</th>\n",
       "      <th>final_score</th>\n",
       "    </tr>\n",
       "  </thead>\n",
       "  <tbody>\n",
       "    <tr>\n",
       "      <th>320</th>\n",
       "      <td>The Space Between Us</td>\n",
       "      <td>0.337350</td>\n",
       "      <td>0.970769</td>\n",
       "      <td>0.774573</td>\n",
       "      <td>2.082692</td>\n",
       "    </tr>\n",
       "    <tr>\n",
       "      <th>490</th>\n",
       "      <td>War on Everyone</td>\n",
       "      <td>0.363442</td>\n",
       "      <td>0.940272</td>\n",
       "      <td>0.736922</td>\n",
       "      <td>2.040637</td>\n",
       "    </tr>\n",
       "    <tr>\n",
       "      <th>41</th>\n",
       "      <td>Berserk: The Golden Age Arc II - The Battle fo...</td>\n",
       "      <td>0.355132</td>\n",
       "      <td>0.899389</td>\n",
       "      <td>0.785232</td>\n",
       "      <td>2.039752</td>\n",
       "    </tr>\n",
       "    <tr>\n",
       "      <th>489</th>\n",
       "      <td>The Seven Deadly Sins the Movie: Prisoners of ...</td>\n",
       "      <td>0.302265</td>\n",
       "      <td>0.899389</td>\n",
       "      <td>0.827146</td>\n",
       "      <td>2.028799</td>\n",
       "    </tr>\n",
       "    <tr>\n",
       "      <th>546</th>\n",
       "      <td>The Dark Crystal: Age of Resistance</td>\n",
       "      <td>0.316464</td>\n",
       "      <td>0.900516</td>\n",
       "      <td>0.811344</td>\n",
       "      <td>2.028324</td>\n",
       "    </tr>\n",
       "    <tr>\n",
       "      <th>369</th>\n",
       "      <td>Solo: A Star Wars Story (Spanish Version)</td>\n",
       "      <td>0.333112</td>\n",
       "      <td>0.950570</td>\n",
       "      <td>0.743667</td>\n",
       "      <td>2.027349</td>\n",
       "    </tr>\n",
       "    <tr>\n",
       "      <th>368</th>\n",
       "      <td>Solo: A Star Wars Story</td>\n",
       "      <td>0.333112</td>\n",
       "      <td>0.950570</td>\n",
       "      <td>0.743667</td>\n",
       "      <td>2.027349</td>\n",
       "    </tr>\n",
       "    <tr>\n",
       "      <th>248</th>\n",
       "      <td>Halo: The Fall of Reach</td>\n",
       "      <td>0.289925</td>\n",
       "      <td>1.000000</td>\n",
       "      <td>0.730508</td>\n",
       "      <td>2.020434</td>\n",
       "    </tr>\n",
       "    <tr>\n",
       "      <th>42</th>\n",
       "      <td>Berserk: The Golden Age Arc III - The Advent</td>\n",
       "      <td>0.326245</td>\n",
       "      <td>0.899389</td>\n",
       "      <td>0.794241</td>\n",
       "      <td>2.019875</td>\n",
       "    </tr>\n",
       "    <tr>\n",
       "      <th>622</th>\n",
       "      <td>War</td>\n",
       "      <td>0.401594</td>\n",
       "      <td>0.955104</td>\n",
       "      <td>0.657046</td>\n",
       "      <td>2.013744</td>\n",
       "    </tr>\n",
       "  </tbody>\n",
       "</table>\n",
       "</div>"
      ],
      "text/plain": [
       "                                        recommendation  score_title  \\\n",
       "320                               The Space Between Us     0.337350   \n",
       "490                                    War on Everyone     0.363442   \n",
       "41   Berserk: The Golden Age Arc II - The Battle fo...     0.355132   \n",
       "489  The Seven Deadly Sins the Movie: Prisoners of ...     0.302265   \n",
       "546                The Dark Crystal: Age of Resistance     0.316464   \n",
       "369          Solo: A Star Wars Story (Spanish Version)     0.333112   \n",
       "368                            Solo: A Star Wars Story     0.333112   \n",
       "248                            Halo: The Fall of Reach     0.289925   \n",
       "42        Berserk: The Golden Age Arc III - The Advent     0.326245   \n",
       "622                                                War     0.401594   \n",
       "\n",
       "     score_category  score_description  final_score  \n",
       "320        0.970769           0.774573     2.082692  \n",
       "490        0.940272           0.736922     2.040637  \n",
       "41         0.899389           0.785232     2.039752  \n",
       "489        0.899389           0.827146     2.028799  \n",
       "546        0.900516           0.811344     2.028324  \n",
       "369        0.950570           0.743667     2.027349  \n",
       "368        0.950570           0.743667     2.027349  \n",
       "248        1.000000           0.730508     2.020434  \n",
       "42         0.899389           0.794241     2.019875  \n",
       "622        0.955104           0.657046     2.013744  "
      ]
     },
     "execution_count": 901,
     "metadata": {},
     "output_type": "execute_result"
    }
   ],
   "source": [
    "# Running the recommender system on Avengers Infinity War\n",
    "recommendation('Avengers: Infinity War')"
   ]
  },
  {
   "cell_type": "code",
   "execution_count": 904,
   "metadata": {},
   "outputs": [
    {
     "name": "stdout",
     "output_type": "stream",
     "text": [
      "['action', '&', 'adventure', 'sci-fi', '&', 'fantasy']\n",
      "['british', 'tv', 'shows', 'british', 'tv', 'shows', 'british', 'tv', 'shows']\n"
     ]
    }
   ],
   "source": [
    "# To cross-check we did the following.\n",
    "\n",
    "print(df_original.iloc[3668][1])\n",
    "print(df_original.iloc[490][1])"
   ]
  },
  {
   "cell_type": "code",
   "execution_count": 902,
   "metadata": {},
   "outputs": [
    {
     "data": {
      "text/html": [
       "<div>\n",
       "<style scoped>\n",
       "    .dataframe tbody tr th:only-of-type {\n",
       "        vertical-align: middle;\n",
       "    }\n",
       "\n",
       "    .dataframe tbody tr th {\n",
       "        vertical-align: top;\n",
       "    }\n",
       "\n",
       "    .dataframe thead th {\n",
       "        text-align: right;\n",
       "    }\n",
       "</style>\n",
       "<table border=\"1\" class=\"dataframe\">\n",
       "  <thead>\n",
       "    <tr style=\"text-align: right;\">\n",
       "      <th></th>\n",
       "      <th>title</th>\n",
       "      <th>listed_in</th>\n",
       "      <th>description</th>\n",
       "      <th>title_original</th>\n",
       "    </tr>\n",
       "  </thead>\n",
       "  <tbody>\n",
       "    <tr>\n",
       "      <th>3668</th>\n",
       "      <td>[infinity, war]</td>\n",
       "      <td>[action, &amp;, adventure, sci-fi, &amp;, fantasy]</td>\n",
       "      <td>[superheroes, amass, stop, intergalactic, soci...</td>\n",
       "      <td>Avengers: Infinity War</td>\n",
       "    </tr>\n",
       "  </tbody>\n",
       "</table>\n",
       "</div>"
      ],
      "text/plain": [
       "                title                                   listed_in  \\\n",
       "3668  [infinity, war]  [action, &, adventure, sci-fi, &, fantasy]   \n",
       "\n",
       "                                            description  \\\n",
       "3668  [superheroes, amass, stop, intergalactic, soci...   \n",
       "\n",
       "              title_original  \n",
       "3668  Avengers: Infinity War  "
      ]
     },
     "execution_count": 902,
     "metadata": {},
     "output_type": "execute_result"
    }
   ],
   "source": [
    "df_original[df_original['title_original'] == 'Avengers: Infinity War']"
   ]
  },
  {
   "cell_type": "markdown",
   "metadata": {},
   "source": [
    "# DONE  "
   ]
  }
 ],
 "metadata": {
  "kernelspec": {
   "display_name": "Python 3",
   "language": "python",
   "name": "python3"
  },
  "language_info": {
   "codemirror_mode": {
    "name": "ipython",
    "version": 3
   },
   "file_extension": ".py",
   "mimetype": "text/x-python",
   "name": "python",
   "nbconvert_exporter": "python",
   "pygments_lexer": "ipython3",
   "version": "3.8.3"
  }
 },
 "nbformat": 4,
 "nbformat_minor": 4
}
