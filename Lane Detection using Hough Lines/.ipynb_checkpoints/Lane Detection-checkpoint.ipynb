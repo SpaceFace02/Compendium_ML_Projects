{
 "cells": [
  {
   "cell_type": "markdown",
   "metadata": {},
   "source": [
    "### LANE DETECTION USING HOUGH LINES - \n",
    "\n",
    "##### Reference - https://www.youtube.com/watch?v=eLTLtUVuuy4"
   ]
  },
  {
   "cell_type": "code",
   "execution_count": 1,
   "metadata": {},
   "outputs": [],
   "source": [
    "import numpy as np\n",
    "import cv2\n",
    "import matplotlib.pyplot as plt"
   ]
  },
  {
   "cell_type": "code",
   "execution_count": 2,
   "metadata": {},
   "outputs": [],
   "source": [
    "cap = cv2.VideoCapture('test2.mp4')  \n",
    "while cap.isOpened():\n",
    "    ret, img = cap.read()\n",
    "\n",
    "    cv2.imshow(\"Frame\",img)\n",
    "\n",
    "    key = cv2.waitKey(1)\n",
    "    if key == ord('q'):\n",
    "        break\n",
    "    if key == ord('p'):\n",
    "        cv2.waitKey(-1) # wait until q key is pressed\n",
    "cap.release()\n",
    "cv2.destroyAllWindows()"
   ]
  },
  {
   "cell_type": "code",
   "execution_count": null,
   "metadata": {},
   "outputs": [],
   "source": [
    "def make_coordinates(frame , parameters):\n",
    "    slope , intercept = parameters\n",
    "    y1 = frame.shape[0]  # the y coordinate of the first point as lines originate from bottom.\n",
    "    y2 = int(y1*3/5)  # Lines upto 3/5th of whole image.\n",
    "    x1 = int((y1-intercept)/slope)  # y=mx+c hence , x = (y-c)/slope\n",
    "    x2 = int((y2-intercept)/slope)\n",
    "    \n",
    "    return np.array([x1,y1,x2,y2])\n",
    "\n",
    "def averaged_lines_slope_intercept(frame ,lines):\n",
    "    left_fit = []\n",
    "    right_fit = []\n",
    "    for line in lines:\n",
    "        x1 ,y1 ,x2,y2 =  line.reshape(4)\n",
    "        parameters = np.polyfit((x1,x2) ,(y1,y2) ,1)  # slope and intercepts\n",
    "#         print(parameters)\n",
    "        slope = parameters[0]\n",
    "        intercept = parameters[1]  # As openCV has y increasing down the image , lines on the left has negative slope and lines on the right has positive slope.\n",
    "        \n",
    "        if (slope<0):\n",
    "            left_fit.append((slope,intercept))\n",
    "        else:\n",
    "            right_fit.append((slope,intercept))\n",
    "#     print(left_fit)\n",
    "#     print(right_fit)\n",
    "    \n",
    "    left_fit_avg = np.average(left_fit , axis =0)\n",
    "    right_fit_avg = np.average(right_fit , axis=0)\n",
    "    left_line = make_coordinates(frame , left_fit_avg)\n",
    "    right_line = make_coordinates(frame , right_fit_avg)\n",
    "#     print(left_fit_avg)\n",
    "#     print(right_fit_avg)\n",
    "\n",
    "    return left_line , right_line\n",
    "\n",
    "def canny_convert(frame):\n",
    "    gray = cv2.cvtColor(frame , cv2.COLOR_BGR2GRAY)\n",
    "    blurred_img = cv2.GaussianBlur(gray ,(5,5) ,0)  # sigmaX=0\n",
    "    canny = cv2.Canny(blurred_img , 50 , 150)  # Documentation specifies ratio 1:3 for canny edge detection.\n",
    "    return canny   \n",
    "def region_of_interest(frame ,canny_img):\n",
    "    height = frame.shape[0]  # dimensions are (704,1100,3)\n",
    "    triangle = np.array([[(200 ,height) ,(1100 ,height) , (550,300)]])  # Its 2-D form , refer video for more explanation.\n",
    "    mask = np.zeros_like(frame ,dtype='uint8')\n",
    "    cv2.fillPoly(mask, triangle , 255)  # White in region of the roi.\n",
    "    masked_img = cv2.bitwise_and(canny_img ,canny_img ,mask = mask)   # https://www.youtube.com/watch?v=eLTLtUVuuy4&ab_channel=ProgrammingKnowledge --beautiful explanation\n",
    "    \n",
    "    return masked_img\n",
    "\n",
    "def hough_lines(frame):\n",
    "    lines = cv2.HoughLinesP(frame , 2, (np.pi)/180 , 100 ,None , minLineLength = 40 , maxLineGap=50 )  # HoughlinesP executes faster and is an optimized version. Check the above video for a more indepth explanation. The acuumulator is the grid he talked about(the bins etc.). The threshold is the minimum number of interesections needeed to denote a line.\n",
    "                                                                           # This is a placeholder array.\n",
    "    return lines\n",
    "\n",
    "def display_lines(frame , lines):  # We need to display it in a mask and then blend it in the frame.\n",
    "    line_image = np.zeros_like(frame)\n",
    "    if lines is not None:\n",
    "        for line in lines:  # Now lines are in a 2-D array , and have coordinated of each point , so we need to reshape it into a 1-D array.\n",
    "            x1,y1,x2,y2 = line.reshape(4)\n",
    "            cv2.line(line_image ,(x1,y1) ,(x2,y2) ,(255,0,0) ,10 ,cv2.LINE_AA)\n",
    "    combo_img = cv2.addWeighted(frame , 0.9 ,line_image ,0.7 , 1)\n",
    "    return combo_img\n",
    "    \n",
    "    \n",
    "\n",
    "cap = cv2.VideoCapture('test2.mp4')      \n",
    "\n",
    "while True:\n",
    "    ret ,frame = cap.read()\n",
    "    if ret is not None:\n",
    "        lane_image = frame.copy()\n",
    "        roi_lane_image = cv2.cvtColor(lane_image , cv2.COLOR_BGR2GRAY)\n",
    "        canny = canny_convert(lane_image)\n",
    "        masked_img = region_of_interest(roi_lane_image , canny) \n",
    "        lines = hough_lines(masked_img)\n",
    "        averaged_lines = averaged_lines_slope_intercept(lane_image ,lines)\n",
    "        combo_img = display_lines(lane_image , averaged_lines)\n",
    "        \n",
    "        cv2.imshow('Lane Detection' ,combo_img)\n",
    "        \n",
    "        \n",
    "        if cv2.waitKey(1) == 27:\n",
    "            break\n",
    "            cap.release()\n",
    "            cv2.destroyAllWindows()\n",
    "            \n",
    "    "
   ]
  },
  {
   "cell_type": "markdown",
   "metadata": {},
   "source": [
    "## LEARNING MORE ABOUT MASKS AND CANNY EDGE DETECTION"
   ]
  },
  {
   "cell_type": "code",
   "execution_count": 48,
   "metadata": {},
   "outputs": [
    {
     "data": {
      "text/plain": [
       "<matplotlib.image.AxesImage at 0x1531f4e3dc0>"
      ]
     },
     "execution_count": 48,
     "metadata": {},
     "output_type": "execute_result"
    },
    {
     "data": {
      "image/png": "[encoded data removed]",
      "text/plain": [
       "<Figure size 432x288 with 1 Axes>"
      ]
     },
     "metadata": {
      "needs_background": "light"
     },
     "output_type": "display_data"
    }
   ],
   "source": [
    "plt.imshow(mask ,cmap='gray')"
   ]
  },
  {
   "cell_type": "code",
   "execution_count": 9,
   "metadata": {},
   "outputs": [],
   "source": [
    "def canny(frame):\n",
    "    gray = cv2.cvtColor(frame , cv2.COLOR_BGR2GRAY)\n",
    "    blurred_img = cv2.GaussianBlur(gray ,(5,5) ,0)  # sigmaX=0\n",
    "    canny = cv2.Canny(blurred_img , 50 , 150)  # Documentation specifies ratio 1:3 for canny edge detection.\n",
    "    return canny"
   ]
  },
  {
   "cell_type": "code",
   "execution_count": 8,
   "metadata": {},
   "outputs": [],
   "source": [
    "img = cv2.imread('lane.jpg')"
   ]
  },
  {
   "cell_type": "code",
   "execution_count": 17,
   "metadata": {},
   "outputs": [
    {
     "data": {
      "text/plain": [
       "<matplotlib.image.AxesImage at 0x1531f1ab340>"
      ]
     },
     "execution_count": 17,
     "metadata": {},
     "output_type": "execute_result"
    },
    {
     "data": {
      "image/png": "[encoded data removed]",
      "text/plain": [
       "<Figure size 432x288 with 1 Axes>"
      ]
     },
     "metadata": {
      "needs_background": "light"
     },
     "output_type": "display_data"
    }
   ],
   "source": [
    "plt.axis('off')\n",
    "plt.imshow(canny(img) ,cmap='gray')"
   ]
  },
  {
   "cell_type": "code",
   "execution_count": 21,
   "metadata": {},
   "outputs": [],
   "source": [
    "def region_of_interest(frame ,canny_img):\n",
    "    height = frame.shape[0]  # dimensions are (704,1100,3)\n",
    "    triangle = np.array([[(200 ,height) ,(1100 ,height) , (550,300)]])  # Its 2-D form , refer video for more explanation.\n",
    "    mask = np.zeros_like(frame ,dtype='uint8')\n",
    "    mask = cv2.fillPoly(mask, triangle , 255)  # White in region of the roi.\n",
    "    return mask"
   ]
  },
  {
   "cell_type": "code",
   "execution_count": 23,
   "metadata": {},
   "outputs": [],
   "source": [
    "mask = region_of_interest(img ,canny)"
   ]
  },
  {
   "cell_type": "code",
   "execution_count": 24,
   "metadata": {},
   "outputs": [
    {
     "data": {
      "text/plain": [
       "(450, 600, 3)"
      ]
     },
     "execution_count": 24,
     "metadata": {},
     "output_type": "execute_result"
    }
   ],
   "source": [
    "mask.shape"
   ]
  },
  {
   "cell_type": "code",
   "execution_count": 25,
   "metadata": {},
   "outputs": [
    {
     "data": {
      "text/plain": [
       "(450, 600, 3)"
      ]
     },
     "execution_count": 25,
     "metadata": {},
     "output_type": "execute_result"
    }
   ],
   "source": [
    "img.shape"
   ]
  },
  {
   "cell_type": "code",
   "execution_count": 27,
   "metadata": {},
   "outputs": [
    {
     "data": {
      "text/plain": [
       "<matplotlib.image.AxesImage at 0x1531f6384f0>"
      ]
     },
     "execution_count": 27,
     "metadata": {},
     "output_type": "execute_result"
    },
    {
     "data": {
      "image/png": "[encoded data removed]",
      "text/plain": [
       "<Figure size 432x288 with 1 Axes>"
      ]
     },
     "metadata": {
      "needs_background": "light"
     },
     "output_type": "display_data"
    }
   ],
   "source": [
    "plt.imshow(mask)"
   ]
  }
 ],
 "metadata": {
  "kernelspec": {
   "display_name": "Python 3 (ipykernel)",
   "language": "python",
   "name": "python3"
  },
  "language_info": {
   "codemirror_mode": {
    "name": "ipython",
    "version": 3
   },
   "file_extension": ".py",
   "mimetype": "text/x-python",
   "name": "python",
   "nbconvert_exporter": "python",
   "pygments_lexer": "ipython3",
   "version": "3.9.7"
  }
 },
 "nbformat": 4,
 "nbformat_minor": 4
}
