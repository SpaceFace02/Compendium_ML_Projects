{
 "cells": [
  {
   "cell_type": "code",
   "execution_count": 1,
   "metadata": {},
   "outputs": [],
   "source": [
    "import numpy as np\n",
    "import pandas as pd\n",
    "import matplotlib.pyplot as plt\n",
    "import seaborn as sns"
   ]
  },
  {
   "cell_type": "code",
   "execution_count": 2,
   "metadata": {},
   "outputs": [],
   "source": [
    "df = pd.read_csv(\"student-mat.csv\" , delimiter=';')"
   ]
  },
  {
   "cell_type": "code",
   "execution_count": 3,
   "metadata": {},
   "outputs": [],
   "source": [
    "# df.isnull().sum()  0 null values."
   ]
  },
  {
   "cell_type": "code",
   "execution_count": 21,
   "metadata": {},
   "outputs": [
    {
     "data": {
      "text/plain": [
       "<matplotlib.legend.Legend at 0x21c0c940910>"
      ]
     },
     "execution_count": 21,
     "metadata": {},
     "output_type": "execute_result"
    },
    {
     "data": {
      "image/png": "[encoded data removed]",
      "text/plain": [
       "<Figure size 720x432 with 1 Axes>"
      ]
     },
     "metadata": {
      "needs_background": "light"
     },
     "output_type": "display_data"
    }
   ],
   "source": [
    "plt.figure(figsize = (10,6))\n",
    "\n",
    "sns.boxplot(x = 'school' , y = 'G3' , hue='sex' , data = df)\n",
    "plt.legend(bbox_to_anchor = [1.1,0])"
   ]
  },
  {
   "cell_type": "code",
   "execution_count": 27,
   "metadata": {},
   "outputs": [],
   "source": [
    "at_home = df[(df['Mjob'] == 'at_home') | (df['Fjob'] == 'at_home')]"
   ]
  },
  {
   "cell_type": "code",
   "execution_count": 30,
   "metadata": {},
   "outputs": [],
   "source": [
    "indices_to_drop = np.array(at_home.index)"
   ]
  },
  {
   "cell_type": "code",
   "execution_count": 31,
   "metadata": {},
   "outputs": [],
   "source": [
    "both_working = df.drop(indices_to_drop)"
   ]
  },
  {
   "cell_type": "code",
   "execution_count": 58,
   "metadata": {},
   "outputs": [
    {
     "data": {
      "text/plain": [
       "<AxesSubplot:xlabel='school', ylabel='G3'>"
      ]
     },
     "execution_count": 58,
     "metadata": {},
     "output_type": "execute_result"
    },
    {
     "data": {
      "image/png": "[encoded data removed]",
      "text/plain": [
       "<Figure size 1008x576 with 2 Axes>"
      ]
     },
     "metadata": {
      "needs_background": "light"
     },
     "output_type": "display_data"
    }
   ],
   "source": [
    "plt.figure(figsize=(14,8))\n",
    "plt.subplot(1,2,1)\n",
    "sns.boxplot(x = 'school' , y = 'G3' , hue='sex' , data = at_home)\n",
    "plt.ylim([0,20])\n",
    "plt.subplot(1,2,2)\n",
    "sns.boxplot(x = 'school' , y = 'G3' , hue='sex' , data = both_working)\n",
    "\n"
   ]
  },
  {
   "cell_type": "code",
   "execution_count": 71,
   "metadata": {},
   "outputs": [
    {
     "data": {
      "text/plain": [
       "<AxesSubplot:xlabel='famrel', ylabel='count'>"
      ]
     },
     "execution_count": 71,
     "metadata": {},
     "output_type": "execute_result"
    },
    {
     "data": {
      "image/png": "[encoded data removed]",
      "text/plain": [
       "<Figure size 432x288 with 1 Axes>"
      ]
     },
     "metadata": {
      "needs_background": "light"
     },
     "output_type": "display_data"
    }
   ],
   "source": [
    "sns.countplot(x = 'famrel' , data =df)"
   ]
  },
  {
   "cell_type": "code",
   "execution_count": 149,
   "metadata": {},
   "outputs": [
    {
     "name": "stdout",
     "output_type": "stream",
     "text": [
      "                   GP                               MS\n",
      "        Romantic  Non-Romantic          Romantic        Non-Romantic        \n",
      "Male:     3.8298         4.1008            3.8333        3.8000\n",
      "Female:   3.9242         3.8889            3.6923        4.0000\n"
     ]
    },
    {
     "data": {
      "text/plain": [
       "<function print>"
      ]
     },
     "execution_count": 149,
     "metadata": {},
     "output_type": "execute_result"
    }
   ],
   "source": [
    "school_1 = df[df['school'] == 'GP']\n",
    "school_2 = df[df['school'] == 'MS']\n",
    "\n",
    "rom_family_male1 = school_1[(school_1['romantic'] == 'yes') &(school_1['sex'] =='M')]\n",
    "male_rom_family1 = rom_family_male1['famrel'].mean()\n",
    "\n",
    "rom_family_female1 = school_1[(school_1['romantic'] == 'yes') &(school_1['sex'] =='F')]\n",
    "female_rom_family1 = rom_family_female1['famrel'].mean()\n",
    "\n",
    "non_rom_family_male1 = school_1[(school_1['romantic'] == 'no') &(school_1['sex'] =='M')]\n",
    "male_norom_family1 = non_rom_family_male1['famrel'].mean()\n",
    "\n",
    "non_rom_family_female1 = school_1[(school_1['romantic'] == 'no') &(school_1['sex'] =='F')]\n",
    "female_norom_family1 = non_rom_family_female1['famrel'].mean()\n",
    "\n",
    "\n",
    "\n",
    "\n",
    "rom_family_male2 = school_2[(school_2['romantic'] == 'yes') &(school_2['sex'] =='M')]\n",
    "male_rom_family2 = rom_family_male2['famrel'].mean()\n",
    "\n",
    "rom_family_female2 = school_2[(school_2['romantic'] == 'yes') &(school_2['sex'] =='F')]\n",
    "female_rom_family2 = rom_family_female2['famrel'].mean()\n",
    "\n",
    "non_rom_family_male2 = school_2[(school_2['romantic'] == 'no') &(school_2['sex'] =='M')]\n",
    "male_norom_family2 = non_rom_family_male2['famrel'].mean()\n",
    "\n",
    "non_rom_family_female2 = school_2[(school_2['romantic'] == 'no') &(school_2['sex'] =='F')]\n",
    "female_norom_family2 = non_rom_family_female2['famrel'].mean()\n",
    "\n",
    "print('                   GP                               MS')\n",
    "print(f\"        Romantic  Non-Romantic          Romantic        Non-Romantic        \")\n",
    "print(f\"Male:     {male_rom_family1:.4f}         {male_norom_family1:.4f}            {male_rom_family2:.4f}        {male_norom_family2:.4f}\")\n",
    "print(f\"Female:   {female_rom_family1:.4f}         {female_norom_family1:.4f}            {female_rom_family2:.4f}        {female_norom_family2:.4f}\")  \n",
    "# To specify the fixed decimal place , use a type specifier by using colon and writing .{no_places}f\n",
    "\n",
    "print"
   ]
  },
  {
   "cell_type": "code",
   "execution_count": 146,
   "metadata": {},
   "outputs": [
    {
     "data": {
      "text/plain": [
       "<AxesSubplot:xlabel='Pstatus', ylabel='count'>"
      ]
     },
     "execution_count": 146,
     "metadata": {},
     "output_type": "execute_result"
    },
    {
     "data": {
      "image/png": "[encoded data removed]",
      "text/plain": [
       "<Figure size 432x288 with 1 Axes>"
      ]
     },
     "metadata": {
      "needs_background": "light"
     },
     "output_type": "display_data"
    }
   ],
   "source": [
    "sns.countplot(x = 'Pstatus' , data = df)"
   ]
  },
  {
   "cell_type": "code",
   "execution_count": 119,
   "metadata": {},
   "outputs": [
    {
     "data": {
      "text/plain": [
       "<AxesSubplot:xlabel='romantic', ylabel='count'>"
      ]
     },
     "execution_count": 119,
     "metadata": {},
     "output_type": "execute_result"
    },
    {
     "data": {
      "image/png": "[encoded data removed]",
      "text/plain": [
       "<Figure size 792x432 with 2 Axes>"
      ]
     },
     "metadata": {
      "needs_background": "light"
     },
     "output_type": "display_data"
    }
   ],
   "source": [
    "plt.figure(figsize = (11,6))\n",
    "plt.subplot(1,2,1)\n",
    "sns.countplot(x = 'romantic' , hue = 'sex' , data = school_1)\n",
    "plt.subplot(1,2,2)\n",
    "sns.countplot(x = 'romantic' , hue = 'sex' , data = school_2)"
   ]
  },
  {
   "cell_type": "code",
   "execution_count": 129,
   "metadata": {},
   "outputs": [
    {
     "data": {
      "text/plain": [
       "<matplotlib.legend.Legend at 0x21c119c2c40>"
      ]
     },
     "execution_count": 129,
     "metadata": {},
     "output_type": "execute_result"
    },
    {
     "data": {
      "image/png": "[encoded data removed]",
      "text/plain": [
       "<Figure size 720x360 with 1 Axes>"
      ]
     },
     "metadata": {
      "needs_background": "light"
     },
     "output_type": "display_data"
    }
   ],
   "source": [
    "plt.figure(figsize = (10,5))\n",
    "sns.countplot(x = 'age' , hue = 'romantic' , data = df)\n",
    "plt.legend(bbox_to_anchor = [1.15 , 1])"
   ]
  },
  {
   "cell_type": "code",
   "execution_count": null,
   "metadata": {},
   "outputs": [],
   "source": [
    "plt.figure(figsize = (11,6))\n",
    "plt.subplot(2,2,1)\n",
    "plt.title('romantic male')\n",
    "sns.countplot(x = 'age' , hue = 'romantic' , data = school_1[school_1['sex'] == 'M'])\n",
    "plt.subplot(2,2,2)\n",
    "plt.title('romantic female')\n",
    "sns.countplot(x = 'age' , hue = 'romantic' , data =  school_1[school_1['sex'] == 'F'] )\n",
    "plt.subplot(2,2,3)\n",
    "plt.title('non-romantic male')\n",
    "sns.countplot(x = 'age' , hue = 'romantic' , data = school_1[school_1['sex'] == 'M'])\n",
    "plt.subplot(2,2,4)\n",
    "plt.title('non-romantic female')\n",
    "sns.countplot(x = 'age' , hue = 'romantic' , data = school_1[school_1['sex'] == 'F'])"
   ]
  }
 ],
 "metadata": {
  "kernelspec": {
   "display_name": "Python 3 (ipykernel)",
   "language": "python",
   "name": "python3"
  },
  "language_info": {
   "codemirror_mode": {
    "name": "ipython",
    "version": 3
   },
   "file_extension": ".py",
   "mimetype": "text/x-python",
   "name": "python",
   "nbconvert_exporter": "python",
   "pygments_lexer": "ipython3",
   "version": "3.9.7"
  }
 },
 "nbformat": 4,
 "nbformat_minor": 4
}
