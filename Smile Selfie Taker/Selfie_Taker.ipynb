{
 "cells": [
  {
   "cell_type": "markdown",
   "metadata": {},
   "source": [
    "### TAKES SELFIES ONLY WHEN YOU SMILE 😀"
   ]
  },
  {
   "cell_type": "code",
   "execution_count": 1,
   "metadata": {},
   "outputs": [],
   "source": [
    "import cv2"
   ]
  },
  {
   "cell_type": "code",
   "execution_count": 9,
   "metadata": {},
   "outputs": [
    {
     "name": "stdout",
     "output_type": "stream",
     "text": [
      "()\n"
     ]
    }
   ],
   "source": [
    "cap = cv2.VideoCapture(0)\n",
    "\n",
    "# Using Haar-Cascades classifiers from the net\n",
    "face_cascade = cv2.CascadeClassifier('haarcascades/haarcascade_frontalface_default.xml')\n",
    "smile_cascade = cv2.CascadeClassifier('haarcascades/haarcascade_smile.xml')\n",
    "\n",
    "while True:\n",
    "    ret ,img = cap.read(0)\n",
    "    gray = cv2.cvtColor(img , cv2.COLOR_BGR2GRAY)\n",
    "    faces = face_cascade.detectMultiScale(gray ,1.1 ,4)  # Scale factor and minNeighbours\n",
    "    cnt = 1\n",
    "    \n",
    "    for (x,y,w,h) in faces:\n",
    "        img = cv2.rectangle(img ,(x,y) ,(x+w,y+h) ,(0,255,0) ,2)\n",
    "        smiles = smile_cascade.detectMultiScale(gray , 1.3 ,3)  # Highly emperical\n",
    "        for x,y,w,h in smiles:\n",
    "            img = cv2.rectangle(img ,(x,y) ,(x+w,y+h) ,(255,255,255) ,2)\n",
    "            print('Image ' + str(cnt) + ' Saved' )\n",
    "            path='img'+str(cnt)+'.jpg'\n",
    "            cv2.imwrite(path , img)\n",
    "            \n",
    "            cnt +=1\n",
    "            \n",
    "            if (cnt>=2):  # To preserve memory and prevent an infinite loop.\n",
    "                break\n",
    "                \n",
    "    cv2.imshow('live_video' ,img)\n",
    "    \n",
    "    if cv2.waitKey(10) == 27:\n",
    "        break\n",
    "        \n",
    "cap.release()\n",
    "cv2.destroyAllWindows()"
   ]
  },
  {
   "cell_type": "code",
   "execution_count": null,
   "metadata": {},
   "outputs": [],
   "source": []
  }
 ],
 "metadata": {
  "kernelspec": {
   "display_name": "Python 3 (ipykernel)",
   "language": "python",
   "name": "python3"
  },
  "language_info": {
   "codemirror_mode": {
    "name": "ipython",
    "version": 3
   },
   "file_extension": ".py",
   "mimetype": "text/x-python",
   "name": "python",
   "nbconvert_exporter": "python",
   "pygments_lexer": "ipython3",
   "version": "3.9.7"
  }
 },
 "nbformat": 4,
 "nbformat_minor": 4
}
